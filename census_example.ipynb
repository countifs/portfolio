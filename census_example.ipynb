{
 "cells": [
  {
   "cell_type": "code",
   "execution_count": 19,
   "metadata": {},
   "outputs": [],
   "source": [
    "from pytorch_tabnet.tab_model import TabNetClassifier\n",
    "\n",
    "import torch\n",
    "from sklearn.preprocessing import LabelEncoder\n",
    "from sklearn.metrics import roc_auc_score\n",
    "\n",
    "import pandas as pd\n",
    "import numpy as np\n",
    "np.random.seed(0)\n",
    "\n",
    "\n",
    "import os\n",
    "import wget\n",
    "from pathlib import Path\n",
    "\n",
    "from matplotlib import pyplot as plt\n",
    "%matplotlib inline"
   ]
  },
  {
   "cell_type": "code",
   "execution_count": 20,
   "metadata": {},
   "outputs": [
    {
     "name": "stdout",
     "output_type": "stream",
     "text": [
      "Device: cuda\n",
      "Current cuda device: 0\n",
      "Count of using GPUs: 1\n"
     ]
    }
   ],
   "source": [
    "#pytorch gpu \n",
    "device = torch.device('cuda' if torch.cuda.is_available() else 'cpu')\n",
    "\n",
    "print('Device:', device)\n",
    "print('Current cuda device:', torch.cuda.current_device())\n",
    "print('Count of using GPUs:', torch.cuda.device_count())"
   ]
  },
  {
   "cell_type": "code",
   "execution_count": 21,
   "metadata": {},
   "outputs": [
    {
     "data": {
      "text/plain": [
       "'1.12.0'"
      ]
     },
     "execution_count": 21,
     "metadata": {},
     "output_type": "execute_result"
    }
   ],
   "source": [
    "import torch\n",
    "torch.__version__"
   ]
  },
  {
   "cell_type": "markdown",
   "metadata": {},
   "source": [
    "# Download census-income dataset"
   ]
  },
  {
   "cell_type": "code",
   "execution_count": 22,
   "metadata": {},
   "outputs": [],
   "source": [
    "url = \"https://archive.ics.uci.edu/ml/machine-learning-databases/adult/adult.data\"\n",
    "dataset_name = 'census-income'\n",
    "out = Path(os.getcwd()+'/data/'+dataset_name+'.csv')"
   ]
  },
  {
   "cell_type": "code",
   "execution_count": 23,
   "metadata": {},
   "outputs": [
    {
     "name": "stdout",
     "output_type": "stream",
     "text": [
      "File already exists.\n"
     ]
    }
   ],
   "source": [
    "out.parent.mkdir(parents=True, exist_ok=True)\n",
    "if out.exists():\n",
    "    print(\"File already exists.\")\n",
    "else:\n",
    "    print(\"Downloading file...\")\n",
    "    wget.download(url, out.as_posix())"
   ]
  },
  {
   "cell_type": "markdown",
   "metadata": {},
   "source": [
    "# Load data and split"
   ]
  },
  {
   "cell_type": "code",
   "execution_count": 24,
   "metadata": {},
   "outputs": [],
   "source": [
    "train = pd.read_csv(out)\n",
    "target = ' <=50K'\n",
    "if \"Set\" not in train.columns:\n",
    "    train[\"Set\"] = np.random.choice([\"train\", \"valid\", \"test\"], p =[.8, .1, .1], size=(train.shape[0],))\n",
    "\n",
    "train_indices = train[train.Set==\"train\"].index\n",
    "valid_indices = train[train.Set==\"valid\"].index\n",
    "test_indices = train[train.Set==\"test\"].index"
   ]
  },
  {
   "cell_type": "code",
   "execution_count": 25,
   "metadata": {},
   "outputs": [
    {
     "data": {
      "text/html": [
       "<div>\n",
       "<style scoped>\n",
       "    .dataframe tbody tr th:only-of-type {\n",
       "        vertical-align: middle;\n",
       "    }\n",
       "\n",
       "    .dataframe tbody tr th {\n",
       "        vertical-align: top;\n",
       "    }\n",
       "\n",
       "    .dataframe thead th {\n",
       "        text-align: right;\n",
       "    }\n",
       "</style>\n",
       "<table border=\"1\" class=\"dataframe\">\n",
       "  <thead>\n",
       "    <tr style=\"text-align: right;\">\n",
       "      <th></th>\n",
       "      <th>39</th>\n",
       "      <th>State-gov</th>\n",
       "      <th>77516</th>\n",
       "      <th>Bachelors</th>\n",
       "      <th>13</th>\n",
       "      <th>Never-married</th>\n",
       "      <th>Adm-clerical</th>\n",
       "      <th>Not-in-family</th>\n",
       "      <th>White</th>\n",
       "      <th>Male</th>\n",
       "      <th>2174</th>\n",
       "      <th>0</th>\n",
       "      <th>40</th>\n",
       "      <th>United-States</th>\n",
       "      <th>&lt;=50K</th>\n",
       "      <th>Set</th>\n",
       "    </tr>\n",
       "  </thead>\n",
       "  <tbody>\n",
       "    <tr>\n",
       "      <th>0</th>\n",
       "      <td>50</td>\n",
       "      <td>Self-emp-not-inc</td>\n",
       "      <td>83311</td>\n",
       "      <td>Bachelors</td>\n",
       "      <td>13</td>\n",
       "      <td>Married-civ-spouse</td>\n",
       "      <td>Exec-managerial</td>\n",
       "      <td>Husband</td>\n",
       "      <td>White</td>\n",
       "      <td>Male</td>\n",
       "      <td>0</td>\n",
       "      <td>0</td>\n",
       "      <td>13</td>\n",
       "      <td>United-States</td>\n",
       "      <td>&lt;=50K</td>\n",
       "      <td>train</td>\n",
       "    </tr>\n",
       "    <tr>\n",
       "      <th>1</th>\n",
       "      <td>38</td>\n",
       "      <td>Private</td>\n",
       "      <td>215646</td>\n",
       "      <td>HS-grad</td>\n",
       "      <td>9</td>\n",
       "      <td>Divorced</td>\n",
       "      <td>Handlers-cleaners</td>\n",
       "      <td>Not-in-family</td>\n",
       "      <td>White</td>\n",
       "      <td>Male</td>\n",
       "      <td>0</td>\n",
       "      <td>0</td>\n",
       "      <td>40</td>\n",
       "      <td>United-States</td>\n",
       "      <td>&lt;=50K</td>\n",
       "      <td>train</td>\n",
       "    </tr>\n",
       "    <tr>\n",
       "      <th>2</th>\n",
       "      <td>53</td>\n",
       "      <td>Private</td>\n",
       "      <td>234721</td>\n",
       "      <td>11th</td>\n",
       "      <td>7</td>\n",
       "      <td>Married-civ-spouse</td>\n",
       "      <td>Handlers-cleaners</td>\n",
       "      <td>Husband</td>\n",
       "      <td>Black</td>\n",
       "      <td>Male</td>\n",
       "      <td>0</td>\n",
       "      <td>0</td>\n",
       "      <td>40</td>\n",
       "      <td>United-States</td>\n",
       "      <td>&lt;=50K</td>\n",
       "      <td>train</td>\n",
       "    </tr>\n",
       "    <tr>\n",
       "      <th>3</th>\n",
       "      <td>28</td>\n",
       "      <td>Private</td>\n",
       "      <td>338409</td>\n",
       "      <td>Bachelors</td>\n",
       "      <td>13</td>\n",
       "      <td>Married-civ-spouse</td>\n",
       "      <td>Prof-specialty</td>\n",
       "      <td>Wife</td>\n",
       "      <td>Black</td>\n",
       "      <td>Female</td>\n",
       "      <td>0</td>\n",
       "      <td>0</td>\n",
       "      <td>40</td>\n",
       "      <td>Cuba</td>\n",
       "      <td>&lt;=50K</td>\n",
       "      <td>train</td>\n",
       "    </tr>\n",
       "    <tr>\n",
       "      <th>4</th>\n",
       "      <td>37</td>\n",
       "      <td>Private</td>\n",
       "      <td>284582</td>\n",
       "      <td>Masters</td>\n",
       "      <td>14</td>\n",
       "      <td>Married-civ-spouse</td>\n",
       "      <td>Exec-managerial</td>\n",
       "      <td>Wife</td>\n",
       "      <td>White</td>\n",
       "      <td>Female</td>\n",
       "      <td>0</td>\n",
       "      <td>0</td>\n",
       "      <td>40</td>\n",
       "      <td>United-States</td>\n",
       "      <td>&lt;=50K</td>\n",
       "      <td>train</td>\n",
       "    </tr>\n",
       "  </tbody>\n",
       "</table>\n",
       "</div>"
      ],
      "text/plain": [
       "   39          State-gov   77516   Bachelors   13        Never-married  \\\n",
       "0  50   Self-emp-not-inc   83311   Bachelors   13   Married-civ-spouse   \n",
       "1  38            Private  215646     HS-grad    9             Divorced   \n",
       "2  53            Private  234721        11th    7   Married-civ-spouse   \n",
       "3  28            Private  338409   Bachelors   13   Married-civ-spouse   \n",
       "4  37            Private  284582     Masters   14   Married-civ-spouse   \n",
       "\n",
       "         Adm-clerical   Not-in-family   White     Male   2174   0   40  \\\n",
       "0     Exec-managerial         Husband   White     Male      0   0   13   \n",
       "1   Handlers-cleaners   Not-in-family   White     Male      0   0   40   \n",
       "2   Handlers-cleaners         Husband   Black     Male      0   0   40   \n",
       "3      Prof-specialty            Wife   Black   Female      0   0   40   \n",
       "4     Exec-managerial            Wife   White   Female      0   0   40   \n",
       "\n",
       "    United-States   <=50K    Set  \n",
       "0   United-States   <=50K  train  \n",
       "1   United-States   <=50K  train  \n",
       "2   United-States   <=50K  train  \n",
       "3            Cuba   <=50K  train  \n",
       "4   United-States   <=50K  train  "
      ]
     },
     "execution_count": 25,
     "metadata": {},
     "output_type": "execute_result"
    }
   ],
   "source": [
    "train.head()"
   ]
  },
  {
   "cell_type": "markdown",
   "metadata": {},
   "source": [
    "# Simple preprocessing\n",
    "\n",
    "Label encode categorical features and fill empty cells."
   ]
  },
  {
   "cell_type": "code",
   "execution_count": 26,
   "metadata": {},
   "outputs": [
    {
     "name": "stdout",
     "output_type": "stream",
     "text": [
      "39 73\n",
      " State-gov 9\n",
      " Bachelors 16\n",
      " 13 16\n",
      " Never-married 7\n",
      " Adm-clerical 15\n",
      " Not-in-family 6\n",
      " White 5\n",
      " Male 2\n",
      " 2174 119\n",
      " 0 92\n",
      " 40 94\n",
      " United-States 42\n",
      " <=50K 2\n",
      "Set 3\n"
     ]
    }
   ],
   "source": [
    "nunique = train.nunique()\n",
    "types = train.dtypes\n",
    "\n",
    "categorical_columns = []\n",
    "categorical_dims =  {}\n",
    "for col in train.columns:\n",
    "    if types[col] == 'object' or nunique[col] < 200:\n",
    "        print(col, train[col].nunique())\n",
    "        l_enc = LabelEncoder()\n",
    "        train[col] = train[col].fillna(\"VV_likely\")\n",
    "        train[col] = l_enc.fit_transform(train[col].values)\n",
    "        categorical_columns.append(col)\n",
    "        categorical_dims[col] = len(l_enc.classes_)\n",
    "    else:\n",
    "        train.fillna(train.loc[train_indices, col].mean(), inplace=True)"
   ]
  },
  {
   "cell_type": "code",
   "execution_count": 27,
   "metadata": {},
   "outputs": [],
   "source": [
    "# check that pipeline accepts strings\n",
    "train.loc[train[target]==0, target] = \"wealthy\"\n",
    "train.loc[train[target]==1, target] = \"not_wealthy\""
   ]
  },
  {
   "cell_type": "markdown",
   "metadata": {},
   "source": [
    "# Define categorical features for categorical embeddings"
   ]
  },
  {
   "cell_type": "code",
   "execution_count": 28,
   "metadata": {},
   "outputs": [],
   "source": [
    "unused_feat = ['Set']\n",
    "\n",
    "features = [ col for col in train.columns if col not in unused_feat+[target]] \n",
    "\n",
    "cat_idxs = [ i for i, f in enumerate(features) if f in categorical_columns]\n",
    "\n",
    "cat_dims = [ categorical_dims[f] for i, f in enumerate(features) if f in categorical_columns]\n"
   ]
  },
  {
   "cell_type": "markdown",
   "metadata": {},
   "source": [
    "# Grouped features\n",
    "\n",
    "You can now specify groups of feature which will share a common attention.\n",
    "\n",
    "This may be very usefull for features comming from a same preprocessing technique like PCA for example."
   ]
  },
  {
   "cell_type": "code",
   "execution_count": 29,
   "metadata": {},
   "outputs": [
    {
     "data": {
      "text/plain": [
       "14"
      ]
     },
     "execution_count": 29,
     "metadata": {},
     "output_type": "execute_result"
    }
   ],
   "source": [
    "len(features)"
   ]
  },
  {
   "cell_type": "code",
   "execution_count": 30,
   "metadata": {},
   "outputs": [],
   "source": [
    "grouped_features = [[0, 1, 2], [8, 9, 10]]"
   ]
  },
  {
   "cell_type": "markdown",
   "metadata": {},
   "source": [
    "# Network parameters"
   ]
  },
  {
   "cell_type": "code",
   "execution_count": 31,
   "metadata": {},
   "outputs": [
    {
     "name": "stderr",
     "output_type": "stream",
     "text": [
      "c:\\Users\\USER\\Dropbox\\PC (2)\\Desktop\\tabnet-develop\\pytorch_tabnet\\abstract_model.py:80: UserWarning: Device used : cuda\n",
      "  warnings.warn(f\"Device used : {self.device}\")\n"
     ]
    }
   ],
   "source": [
    "tabnet_params = {\"cat_idxs\":cat_idxs,\n",
    "                 \"cat_dims\":cat_dims,\n",
    "                 \"cat_emb_dim\":2,\n",
    "                 \"optimizer_fn\":torch.optim.Adam,\n",
    "                 \"optimizer_params\":dict(lr=2e-2),\n",
    "                 \"scheduler_params\":{\"step_size\":50, # how to use learning rate scheduler\n",
    "                                 \"gamma\":0.9},\n",
    "                 \"scheduler_fn\":torch.optim.lr_scheduler.StepLR,\n",
    "                 \"mask_type\":'sparsemax', # \"entmax\"\n",
    "                 \"grouped_features\" : grouped_features\n",
    "                }\n",
    "\n",
    "clf = TabNetClassifier(**tabnet_params\n",
    "                      )"
   ]
  },
  {
   "cell_type": "markdown",
   "metadata": {},
   "source": [
    "# Training"
   ]
  },
  {
   "cell_type": "code",
   "execution_count": 32,
   "metadata": {},
   "outputs": [],
   "source": [
    "X_train = train[features].values[train_indices]\n",
    "y_train = train[target].values[train_indices]\n",
    "\n",
    "X_valid = train[features].values[valid_indices]\n",
    "y_valid = train[target].values[valid_indices]\n",
    "\n",
    "X_test = train[features].values[test_indices]\n",
    "y_test = train[target].values[test_indices]"
   ]
  },
  {
   "cell_type": "code",
   "execution_count": 33,
   "metadata": {},
   "outputs": [],
   "source": [
    "max_epochs = 50 if not os.getenv(\"CI\", False) else 2"
   ]
  },
  {
   "cell_type": "code",
   "execution_count": 15,
   "metadata": {},
   "outputs": [],
   "source": [
    "from pytorch_tabnet.augmentations import ClassificationSMOTE\n",
    "aug = ClassificationSMOTE(p=0.2)"
   ]
  },
  {
   "cell_type": "code",
   "execution_count": 34,
   "metadata": {
    "scrolled": true
   },
   "outputs": [
    {
     "name": "stdout",
     "output_type": "stream",
     "text": [
      "epoch 0  | loss: 0.59846 | train_auc: 0.80723 | valid_auc: 0.8129  |  0:00:01s\n",
      "epoch 1  | loss: 0.4978  | train_auc: 0.85022 | valid_auc: 0.85736 |  0:00:02s\n",
      "epoch 2  | loss: 0.47821 | train_auc: 0.86365 | valid_auc: 0.87494 |  0:00:03s\n",
      "epoch 3  | loss: 0.46688 | train_auc: 0.86927 | valid_auc: 0.87761 |  0:00:04s\n",
      "epoch 4  | loss: 0.4558  | train_auc: 0.8724  | valid_auc: 0.87908 |  0:00:06s\n",
      "epoch 5  | loss: 0.45004 | train_auc: 0.88527 | valid_auc: 0.88773 |  0:00:07s\n",
      "epoch 6  | loss: 0.43649 | train_auc: 0.89017 | valid_auc: 0.89119 |  0:00:08s\n",
      "epoch 7  | loss: 0.43576 | train_auc: 0.89778 | valid_auc: 0.89515 |  0:00:09s\n",
      "epoch 8  | loss: 0.42821 | train_auc: 0.89849 | valid_auc: 0.89747 |  0:00:10s\n",
      "epoch 9  | loss: 0.42116 | train_auc: 0.90244 | valid_auc: 0.90188 |  0:00:12s\n",
      "epoch 10 | loss: 0.41844 | train_auc: 0.90639 | valid_auc: 0.90488 |  0:00:13s\n",
      "epoch 11 | loss: 0.40803 | train_auc: 0.90858 | valid_auc: 0.90773 |  0:00:14s\n",
      "epoch 12 | loss: 0.39983 | train_auc: 0.90955 | valid_auc: 0.9088  |  0:00:15s\n",
      "epoch 13 | loss: 0.39439 | train_auc: 0.91519 | valid_auc: 0.91236 |  0:00:16s\n",
      "epoch 14 | loss: 0.39195 | train_auc: 0.91724 | valid_auc: 0.91466 |  0:00:17s\n",
      "epoch 15 | loss: 0.38789 | train_auc: 0.92112 | valid_auc: 0.9189  |  0:00:19s\n",
      "epoch 16 | loss: 0.38628 | train_auc: 0.9233  | valid_auc: 0.92088 |  0:00:20s\n",
      "epoch 17 | loss: 0.37428 | train_auc: 0.92332 | valid_auc: 0.9209  |  0:00:21s\n",
      "epoch 18 | loss: 0.38085 | train_auc: 0.92595 | valid_auc: 0.9233  |  0:00:22s\n",
      "epoch 19 | loss: 0.37903 | train_auc: 0.92604 | valid_auc: 0.92445 |  0:00:23s\n",
      "epoch 20 | loss: 0.37182 | train_auc: 0.92794 | valid_auc: 0.9249  |  0:00:24s\n",
      "epoch 21 | loss: 0.3697  | train_auc: 0.92912 | valid_auc: 0.92548 |  0:00:26s\n",
      "epoch 22 | loss: 0.36659 | train_auc: 0.93032 | valid_auc: 0.9256  |  0:00:27s\n",
      "epoch 23 | loss: 0.36715 | train_auc: 0.92958 | valid_auc: 0.92441 |  0:00:28s\n",
      "epoch 24 | loss: 0.37261 | train_auc: 0.92961 | valid_auc: 0.92668 |  0:00:29s\n",
      "epoch 25 | loss: 0.36693 | train_auc: 0.92822 | valid_auc: 0.92431 |  0:00:31s\n",
      "epoch 26 | loss: 0.35857 | train_auc: 0.93106 | valid_auc: 0.92787 |  0:00:32s\n",
      "epoch 27 | loss: 0.36502 | train_auc: 0.9308  | valid_auc: 0.9269  |  0:00:33s\n",
      "epoch 28 | loss: 0.36598 | train_auc: 0.93016 | valid_auc: 0.92499 |  0:00:35s\n",
      "epoch 29 | loss: 0.36781 | train_auc: 0.93114 | valid_auc: 0.92671 |  0:00:36s\n",
      "epoch 30 | loss: 0.36364 | train_auc: 0.93149 | valid_auc: 0.92636 |  0:00:37s\n",
      "epoch 31 | loss: 0.36272 | train_auc: 0.93213 | valid_auc: 0.92625 |  0:00:38s\n",
      "epoch 32 | loss: 0.35732 | train_auc: 0.93177 | valid_auc: 0.92638 |  0:00:39s\n",
      "epoch 33 | loss: 0.36085 | train_auc: 0.9326  | valid_auc: 0.9259  |  0:00:41s\n",
      "epoch 34 | loss: 0.35849 | train_auc: 0.93409 | valid_auc: 0.92727 |  0:00:42s\n",
      "epoch 35 | loss: 0.359   | train_auc: 0.93413 | valid_auc: 0.92635 |  0:00:43s\n",
      "epoch 36 | loss: 0.36148 | train_auc: 0.93469 | valid_auc: 0.92618 |  0:00:45s\n",
      "epoch 37 | loss: 0.35511 | train_auc: 0.93494 | valid_auc: 0.92691 |  0:00:46s\n",
      "epoch 38 | loss: 0.36296 | train_auc: 0.93478 | valid_auc: 0.92757 |  0:00:47s\n",
      "epoch 39 | loss: 0.35449 | train_auc: 0.93476 | valid_auc: 0.92767 |  0:00:48s\n",
      "epoch 40 | loss: 0.35591 | train_auc: 0.93531 | valid_auc: 0.9279  |  0:00:50s\n",
      "epoch 41 | loss: 0.35624 | train_auc: 0.93567 | valid_auc: 0.92667 |  0:00:51s\n",
      "epoch 42 | loss: 0.35363 | train_auc: 0.93541 | valid_auc: 0.92646 |  0:00:52s\n",
      "epoch 43 | loss: 0.3566  | train_auc: 0.93607 | valid_auc: 0.92727 |  0:00:53s\n",
      "epoch 44 | loss: 0.35543 | train_auc: 0.93551 | valid_auc: 0.92657 |  0:00:54s\n",
      "epoch 45 | loss: 0.35012 | train_auc: 0.93539 | valid_auc: 0.92843 |  0:00:56s\n",
      "epoch 46 | loss: 0.35718 | train_auc: 0.93666 | valid_auc: 0.92686 |  0:00:57s\n",
      "epoch 47 | loss: 0.35298 | train_auc: 0.93607 | valid_auc: 0.92498 |  0:00:58s\n",
      "epoch 48 | loss: 0.35181 | train_auc: 0.93674 | valid_auc: 0.92388 |  0:00:59s\n",
      "epoch 49 | loss: 0.35414 | train_auc: 0.93787 | valid_auc: 0.92656 |  0:01:01s\n",
      "Stop training because you reached max_epochs = 50 with best_epoch = 45 and best_valid_auc = 0.92843\n"
     ]
    },
    {
     "name": "stderr",
     "output_type": "stream",
     "text": [
      "c:\\Users\\USER\\Dropbox\\PC (2)\\Desktop\\tabnet-develop\\pytorch_tabnet\\callbacks.py:172: UserWarning: Best weights from best epoch are automatically used!\n",
      "  warnings.warn(wrn_msg)\n"
     ]
    },
    {
     "name": "stdout",
     "output_type": "stream",
     "text": [
      "epoch 0  | loss: 0.59846 | train_auc: 0.80723 | valid_auc: 0.8129  |  0:00:01s\n",
      "epoch 1  | loss: 0.4978  | train_auc: 0.85022 | valid_auc: 0.85736 |  0:00:02s\n",
      "epoch 2  | loss: 0.47821 | train_auc: 0.86365 | valid_auc: 0.87494 |  0:00:03s\n",
      "epoch 3  | loss: 0.46688 | train_auc: 0.86927 | valid_auc: 0.87761 |  0:00:04s\n",
      "epoch 4  | loss: 0.4558  | train_auc: 0.8724  | valid_auc: 0.87908 |  0:00:06s\n",
      "epoch 5  | loss: 0.45004 | train_auc: 0.88527 | valid_auc: 0.88773 |  0:00:07s\n",
      "epoch 6  | loss: 0.43649 | train_auc: 0.89017 | valid_auc: 0.89119 |  0:00:08s\n",
      "epoch 7  | loss: 0.43576 | train_auc: 0.89778 | valid_auc: 0.89515 |  0:00:09s\n",
      "epoch 8  | loss: 0.42821 | train_auc: 0.89849 | valid_auc: 0.89747 |  0:00:11s\n",
      "epoch 9  | loss: 0.42116 | train_auc: 0.90244 | valid_auc: 0.90188 |  0:00:12s\n",
      "epoch 10 | loss: 0.41844 | train_auc: 0.90639 | valid_auc: 0.90488 |  0:00:13s\n",
      "epoch 11 | loss: 0.40803 | train_auc: 0.90858 | valid_auc: 0.90773 |  0:00:15s\n",
      "epoch 12 | loss: 0.39983 | train_auc: 0.90955 | valid_auc: 0.9088  |  0:00:16s\n",
      "epoch 13 | loss: 0.39439 | train_auc: 0.91519 | valid_auc: 0.91236 |  0:00:17s\n",
      "epoch 14 | loss: 0.39195 | train_auc: 0.91724 | valid_auc: 0.91466 |  0:00:18s\n",
      "epoch 15 | loss: 0.38789 | train_auc: 0.92112 | valid_auc: 0.9189  |  0:00:20s\n",
      "epoch 16 | loss: 0.38628 | train_auc: 0.9233  | valid_auc: 0.92088 |  0:00:21s\n",
      "epoch 17 | loss: 0.37428 | train_auc: 0.92332 | valid_auc: 0.9209  |  0:00:22s\n",
      "epoch 18 | loss: 0.38085 | train_auc: 0.92595 | valid_auc: 0.9233  |  0:00:23s\n",
      "epoch 19 | loss: 0.37903 | train_auc: 0.92604 | valid_auc: 0.92445 |  0:00:24s\n",
      "epoch 20 | loss: 0.37182 | train_auc: 0.92794 | valid_auc: 0.9249  |  0:00:26s\n",
      "epoch 21 | loss: 0.3697  | train_auc: 0.92912 | valid_auc: 0.92548 |  0:00:27s\n",
      "epoch 22 | loss: 0.36659 | train_auc: 0.93032 | valid_auc: 0.9256  |  0:00:28s\n",
      "epoch 23 | loss: 0.36715 | train_auc: 0.92958 | valid_auc: 0.92441 |  0:00:30s\n",
      "epoch 24 | loss: 0.37261 | train_auc: 0.92961 | valid_auc: 0.92668 |  0:00:31s\n",
      "epoch 25 | loss: 0.36693 | train_auc: 0.92822 | valid_auc: 0.92431 |  0:00:32s\n",
      "epoch 26 | loss: 0.35857 | train_auc: 0.93106 | valid_auc: 0.92787 |  0:00:34s\n",
      "epoch 27 | loss: 0.36502 | train_auc: 0.9308  | valid_auc: 0.9269  |  0:00:35s\n",
      "epoch 28 | loss: 0.36598 | train_auc: 0.93016 | valid_auc: 0.92499 |  0:00:36s\n",
      "epoch 29 | loss: 0.36781 | train_auc: 0.93114 | valid_auc: 0.92671 |  0:00:37s\n",
      "epoch 30 | loss: 0.36364 | train_auc: 0.93149 | valid_auc: 0.92636 |  0:00:39s\n",
      "epoch 31 | loss: 0.36272 | train_auc: 0.93213 | valid_auc: 0.92625 |  0:00:40s\n",
      "epoch 32 | loss: 0.35732 | train_auc: 0.93177 | valid_auc: 0.92638 |  0:00:41s\n",
      "epoch 33 | loss: 0.36085 | train_auc: 0.9326  | valid_auc: 0.9259  |  0:00:42s\n",
      "epoch 34 | loss: 0.35849 | train_auc: 0.93409 | valid_auc: 0.92727 |  0:00:44s\n",
      "epoch 35 | loss: 0.359   | train_auc: 0.93413 | valid_auc: 0.92635 |  0:00:45s\n",
      "epoch 36 | loss: 0.36148 | train_auc: 0.93469 | valid_auc: 0.92618 |  0:00:46s\n",
      "epoch 37 | loss: 0.35511 | train_auc: 0.93494 | valid_auc: 0.92691 |  0:00:47s\n",
      "epoch 38 | loss: 0.36296 | train_auc: 0.93478 | valid_auc: 0.92757 |  0:00:49s\n",
      "epoch 39 | loss: 0.35449 | train_auc: 0.93476 | valid_auc: 0.92767 |  0:00:50s\n",
      "epoch 40 | loss: 0.35591 | train_auc: 0.93531 | valid_auc: 0.9279  |  0:00:51s\n",
      "epoch 41 | loss: 0.35624 | train_auc: 0.93567 | valid_auc: 0.92667 |  0:00:52s\n",
      "epoch 42 | loss: 0.35363 | train_auc: 0.93541 | valid_auc: 0.92646 |  0:00:53s\n",
      "epoch 43 | loss: 0.3566  | train_auc: 0.93607 | valid_auc: 0.92727 |  0:00:55s\n",
      "epoch 44 | loss: 0.35543 | train_auc: 0.93551 | valid_auc: 0.92657 |  0:00:56s\n",
      "epoch 45 | loss: 0.35012 | train_auc: 0.93539 | valid_auc: 0.92843 |  0:00:57s\n",
      "epoch 46 | loss: 0.35718 | train_auc: 0.93666 | valid_auc: 0.92686 |  0:00:58s\n",
      "epoch 47 | loss: 0.35298 | train_auc: 0.93607 | valid_auc: 0.92498 |  0:00:59s\n",
      "epoch 48 | loss: 0.35181 | train_auc: 0.93674 | valid_auc: 0.92388 |  0:01:01s\n",
      "epoch 49 | loss: 0.35414 | train_auc: 0.93787 | valid_auc: 0.92656 |  0:01:02s\n",
      "Stop training because you reached max_epochs = 50 with best_epoch = 45 and best_valid_auc = 0.92843\n"
     ]
    },
    {
     "name": "stderr",
     "output_type": "stream",
     "text": [
      "c:\\Users\\USER\\Dropbox\\PC (2)\\Desktop\\tabnet-develop\\pytorch_tabnet\\callbacks.py:172: UserWarning: Best weights from best epoch are automatically used!\n",
      "  warnings.warn(wrn_msg)\n"
     ]
    }
   ],
   "source": [
    "# This illustrates the warm_start=False behaviour\n",
    "save_history = []\n",
    "for _ in range(2):\n",
    "    clf.fit(\n",
    "        X_train=X_train, y_train=y_train,\n",
    "        eval_set=[(X_train, y_train), (X_valid, y_valid)],\n",
    "        eval_name=['train', 'valid'],\n",
    "        eval_metric=['auc'],\n",
    "        max_epochs=max_epochs , patience=20,\n",
    "        batch_size=1024, virtual_batch_size=128,\n",
    "        num_workers=0,\n",
    "        weights=1,\n",
    "        drop_last=False,\n",
    "        augmentations=aug, #aug, None\n",
    "    )\n",
    "    save_history.append(clf.history[\"valid_auc\"])\n",
    "\n",
    "assert(np.all(np.array(save_history[0]==np.array(save_history[1]))))"
   ]
  },
  {
   "cell_type": "code",
   "execution_count": 35,
   "metadata": {},
   "outputs": [
    {
     "data": {
      "text/plain": [
       "[<matplotlib.lines.Line2D at 0x22c27836130>]"
      ]
     },
     "execution_count": 35,
     "metadata": {},
     "output_type": "execute_result"
    },
    {
     "data": {
      "image/png": "[encoded data removed]",
      "text/plain": [
       "<Figure size 432x288 with 1 Axes>"
      ]
     },
     "metadata": {
      "needs_background": "light"
     },
     "output_type": "display_data"
    }
   ],
   "source": [
    "# plot losses\n",
    "plt.plot(clf.history['loss'])"
   ]
  },
  {
   "cell_type": "code",
   "execution_count": 36,
   "metadata": {},
   "outputs": [
    {
     "data": {
      "text/plain": [
       "[<matplotlib.lines.Line2D at 0x22c3722d430>]"
      ]
     },
     "execution_count": 36,
     "metadata": {},
     "output_type": "execute_result"
    },
    {
     "data": {
      "image/png": "[encoded data removed]",
      "text/plain": [
       "<Figure size 432x288 with 1 Axes>"
      ]
     },
     "metadata": {
      "needs_background": "light"
     },
     "output_type": "display_data"
    }
   ],
   "source": [
    "# plot auc\n",
    "plt.plot(clf.history['train_auc'])\n",
    "plt.plot(clf.history['valid_auc'])"
   ]
  },
  {
   "cell_type": "code",
   "execution_count": 37,
   "metadata": {},
   "outputs": [
    {
     "data": {
      "text/plain": [
       "[<matplotlib.lines.Line2D at 0x22b9588e130>]"
      ]
     },
     "execution_count": 37,
     "metadata": {},
     "output_type": "execute_result"
    },
    {
     "data": {
      "image/png": "[encoded data removed]",
      "text/plain": [
       "<Figure size 432x288 with 1 Axes>"
      ]
     },
     "metadata": {
      "needs_background": "light"
     },
     "output_type": "display_data"
    }
   ],
   "source": [
    "# plot learning rates\n",
    "plt.plot(clf.history['lr'])"
   ]
  },
  {
   "cell_type": "markdown",
   "metadata": {},
   "source": [
    "## Predictions"
   ]
  },
  {
   "cell_type": "code",
   "execution_count": 38,
   "metadata": {},
   "outputs": [
    {
     "name": "stdout",
     "output_type": "stream",
     "text": [
      "BEST VALID SCORE FOR census-income : 0.9284286587951509\n",
      "FINAL TEST SCORE FOR census-income : 0.9234552822677494\n"
     ]
    }
   ],
   "source": [
    "preds = clf.predict_proba(X_test)\n",
    "test_auc = roc_auc_score(y_score=preds[:,1], y_true=y_test)\n",
    "\n",
    "\n",
    "preds_valid = clf.predict_proba(X_valid)\n",
    "valid_auc = roc_auc_score(y_score=preds_valid[:,1], y_true=y_valid)\n",
    "\n",
    "print(f\"BEST VALID SCORE FOR {dataset_name} : {clf.best_cost}\")\n",
    "print(f\"FINAL TEST SCORE FOR {dataset_name} : {test_auc}\")"
   ]
  },
  {
   "cell_type": "code",
   "execution_count": 39,
   "metadata": {},
   "outputs": [],
   "source": [
    "# check that best weights are used\n",
    "assert np.isclose(valid_auc, np.max(clf.history['valid_auc']), atol=1e-6)"
   ]
  },
  {
   "cell_type": "code",
   "execution_count": 40,
   "metadata": {},
   "outputs": [
    {
     "data": {
      "text/plain": [
       "array(['not_wealthy', 'not_wealthy', 'wealthy', ..., 'not_wealthy',\n",
       "       'wealthy', 'wealthy'], dtype='<U11')"
      ]
     },
     "execution_count": 40,
     "metadata": {},
     "output_type": "execute_result"
    }
   ],
   "source": [
    "clf.predict(X_test)"
   ]
  },
  {
   "cell_type": "markdown",
   "metadata": {},
   "source": [
    "# Save and load Model"
   ]
  },
  {
   "cell_type": "code",
   "execution_count": 41,
   "metadata": {},
   "outputs": [
    {
     "name": "stdout",
     "output_type": "stream",
     "text": [
      "Successfully saved model at ./tabnet_model_test_1.zip\n"
     ]
    }
   ],
   "source": [
    "# save tabnet model\n",
    "saving_path_name = \"./tabnet_model_test_1\"\n",
    "saved_filepath = clf.save_model(saving_path_name)"
   ]
  },
  {
   "cell_type": "code",
   "execution_count": 42,
   "metadata": {},
   "outputs": [
    {
     "name": "stderr",
     "output_type": "stream",
     "text": [
      "c:\\Users\\USER\\Dropbox\\PC (2)\\Desktop\\tabnet-develop\\pytorch_tabnet\\abstract_model.py:80: UserWarning: Device used : cuda\n",
      "  warnings.warn(f\"Device used : {self.device}\")\n"
     ]
    }
   ],
   "source": [
    "# define new model with basic parameters and load state dict weights\n",
    "loaded_clf = TabNetClassifier()\n",
    "loaded_clf.load_model(saved_filepath)"
   ]
  },
  {
   "cell_type": "code",
   "execution_count": 43,
   "metadata": {},
   "outputs": [
    {
     "name": "stdout",
     "output_type": "stream",
     "text": [
      "FINAL TEST SCORE FOR census-income : 0.9234552822677494\n"
     ]
    }
   ],
   "source": [
    "loaded_preds = loaded_clf.predict_proba(X_test)\n",
    "loaded_test_auc = roc_auc_score(y_score=loaded_preds[:,1], y_true=y_test)\n",
    "\n",
    "print(f\"FINAL TEST SCORE FOR {dataset_name} : {loaded_test_auc}\")"
   ]
  },
  {
   "cell_type": "code",
   "execution_count": 44,
   "metadata": {},
   "outputs": [],
   "source": [
    "assert(test_auc == loaded_test_auc)"
   ]
  },
  {
   "cell_type": "code",
   "execution_count": 45,
   "metadata": {},
   "outputs": [
    {
     "data": {
      "text/plain": [
       "array(['not_wealthy', 'not_wealthy', 'wealthy', ..., 'not_wealthy',\n",
       "       'wealthy', 'wealthy'], dtype='<U11')"
      ]
     },
     "execution_count": 45,
     "metadata": {},
     "output_type": "execute_result"
    }
   ],
   "source": [
    "loaded_clf.predict(X_test)"
   ]
  },
  {
   "cell_type": "markdown",
   "metadata": {},
   "source": [
    "# Global explainability : feat importance summing to 1"
   ]
  },
  {
   "cell_type": "code",
   "execution_count": 46,
   "metadata": {},
   "outputs": [
    {
     "data": {
      "text/plain": [
       "array([2.34904948e-02, 2.34904948e-02, 2.34904948e-02, 7.15675288e-02,\n",
       "       1.22614655e-01, 4.56910632e-01, 8.90806016e-02, 4.15443644e-02,\n",
       "       1.34222046e-02, 1.34222046e-02, 1.34222046e-02, 3.30348025e-02,\n",
       "       7.44537395e-02, 5.55780215e-05])"
      ]
     },
     "execution_count": 46,
     "metadata": {},
     "output_type": "execute_result"
    }
   ],
   "source": [
    "clf.feature_importances_"
   ]
  },
  {
   "cell_type": "markdown",
   "metadata": {},
   "source": [
    "# Local explainability and masks"
   ]
  },
  {
   "cell_type": "code",
   "execution_count": 47,
   "metadata": {},
   "outputs": [],
   "source": [
    "explain_matrix, masks = clf.explain(X_test)"
   ]
  },
  {
   "cell_type": "code",
   "execution_count": 49,
   "metadata": {},
   "outputs": [
    {
     "data": {
      "text/plain": [
       "<AxesSubplot:>"
      ]
     },
     "execution_count": 49,
     "metadata": {},
     "output_type": "execute_result"
    },
    {
     "data": {
      "image/png": "[encoded data removed]",
      "text/plain": [
       "<Figure size 432x288 with 1 Axes>"
      ]
     },
     "metadata": {
      "needs_background": "light"
     },
     "output_type": "display_data"
    }
   ],
   "source": [
    "# global\n",
    "feat_importances = pd.Series(clf.feature_importances_, index=features)\n",
    "feat_importances.plot(kind='barh')"
   ]
  },
  {
   "cell_type": "code",
   "execution_count": 50,
   "metadata": {},
   "outputs": [
    {
     "name": "stderr",
     "output_type": "stream",
     "text": [
      "C:\\Users\\USER\\AppData\\Local\\Temp\\ipykernel_182504\\58949275.py:9: UserWarning: FixedFormatter should only be used together with FixedLocator\n",
      "  axs[i].set_xticklabels(labels = features, rotation=45)\n"
     ]
    },
    {
     "data": {
      "image/png": "[encoded data removed]",
      "text/plain": [
       "<Figure size 1440x1440 with 3 Axes>"
      ]
     },
     "metadata": {
      "needs_background": "light"
     },
     "output_type": "display_data"
    }
   ],
   "source": [
    "#local\n",
    "\n",
    "fig, axs = plt.subplots(1, 3, figsize=(20,20))\n",
    "\n",
    "\n",
    "for i in range(3):\n",
    "    axs[i].imshow(masks[i][:25])\n",
    "    axs[i].set_title(f\"mask {i}\")\n",
    "    axs[i].set_xticklabels(labels = features, rotation=45)"
   ]
  },
  {
   "cell_type": "markdown",
   "metadata": {},
   "source": [
    "# XGB"
   ]
  },
  {
   "cell_type": "code",
   "execution_count": 51,
   "metadata": {
    "scrolled": true
   },
   "outputs": [
    {
     "name": "stdout",
     "output_type": "stream",
     "text": [
      "[0]\tvalidation_0-logloss:0.63523\n",
      "[10]\tvalidation_0-logloss:0.37927\n",
      "[20]\tvalidation_0-logloss:0.31122\n"
     ]
    },
    {
     "name": "stderr",
     "output_type": "stream",
     "text": [
      "c:\\ProgramData\\Anaconda3\\lib\\site-packages\\xgboost\\compat.py:36: FutureWarning: pandas.Int64Index is deprecated and will be removed from pandas in a future version. Use pandas.Index with the appropriate dtype instead.\n",
      "  from pandas import MultiIndex, Int64Index\n",
      "c:\\ProgramData\\Anaconda3\\lib\\site-packages\\xgboost\\sklearn.py:1224: UserWarning: The use of label encoder in XGBClassifier is deprecated and will be removed in a future release. To remove this warning, do the following: 1) Pass option use_label_encoder=False when constructing XGBClassifier object; and 2) Encode your labels (y) as integers starting with 0, i.e. 0, 1, 2, ..., [num_class - 1].\n",
      "  warnings.warn(label_encoder_deprecation_msg, UserWarning)\n"
     ]
    },
    {
     "name": "stdout",
     "output_type": "stream",
     "text": [
      "[30]\tvalidation_0-logloss:0.28684\n",
      "[40]\tvalidation_0-logloss:0.27723\n",
      "[50]\tvalidation_0-logloss:0.27253\n",
      "[60]\tvalidation_0-logloss:0.26951\n",
      "[70]\tvalidation_0-logloss:0.26908\n",
      "[80]\tvalidation_0-logloss:0.26752\n",
      "[90]\tvalidation_0-logloss:0.26729\n",
      "[100]\tvalidation_0-logloss:0.26748\n",
      "[110]\tvalidation_0-logloss:0.26783\n",
      "[120]\tvalidation_0-logloss:0.26779\n",
      "[130]\tvalidation_0-logloss:0.26815\n",
      "[140]\tvalidation_0-logloss:0.26878\n",
      "[142]\tvalidation_0-logloss:0.26913\n"
     ]
    },
    {
     "data": {
      "text/html": [
       "<style>#sk-container-id-1 {color: black;background-color: white;}#sk-container-id-1 pre{padding: 0;}#sk-container-id-1 div.sk-toggleable {background-color: white;}#sk-container-id-1 label.sk-toggleable__label {cursor: pointer;display: block;width: 100%;margin-bottom: 0;padding: 0.3em;box-sizing: border-box;text-align: center;}#sk-container-id-1 label.sk-toggleable__label-arrow:before {content: \"▸\";float: left;margin-right: 0.25em;color: #696969;}#sk-container-id-1 label.sk-toggleable__label-arrow:hover:before {color: black;}#sk-container-id-1 div.sk-estimator:hover label.sk-toggleable__label-arrow:before {color: black;}#sk-container-id-1 div.sk-toggleable__content {max-height: 0;max-width: 0;overflow: hidden;text-align: left;background-color: #f0f8ff;}#sk-container-id-1 div.sk-toggleable__content pre {margin: 0.2em;color: black;border-radius: 0.25em;background-color: #f0f8ff;}#sk-container-id-1 input.sk-toggleable__control:checked~div.sk-toggleable__content {max-height: 200px;max-width: 100%;overflow: auto;}#sk-container-id-1 input.sk-toggleable__control:checked~label.sk-toggleable__label-arrow:before {content: \"▾\";}#sk-container-id-1 div.sk-estimator input.sk-toggleable__control:checked~label.sk-toggleable__label {background-color: #d4ebff;}#sk-container-id-1 div.sk-label input.sk-toggleable__control:checked~label.sk-toggleable__label {background-color: #d4ebff;}#sk-container-id-1 input.sk-hidden--visually {border: 0;clip: rect(1px 1px 1px 1px);clip: rect(1px, 1px, 1px, 1px);height: 1px;margin: -1px;overflow: hidden;padding: 0;position: absolute;width: 1px;}#sk-container-id-1 div.sk-estimator {font-family: monospace;background-color: #f0f8ff;border: 1px dotted black;border-radius: 0.25em;box-sizing: border-box;margin-bottom: 0.5em;}#sk-container-id-1 div.sk-estimator:hover {background-color: #d4ebff;}#sk-container-id-1 div.sk-parallel-item::after {content: \"\";width: 100%;border-bottom: 1px solid gray;flex-grow: 1;}#sk-container-id-1 div.sk-label:hover label.sk-toggleable__label {background-color: #d4ebff;}#sk-container-id-1 div.sk-serial::before {content: \"\";position: absolute;border-left: 1px solid gray;box-sizing: border-box;top: 0;bottom: 0;left: 50%;z-index: 0;}#sk-container-id-1 div.sk-serial {display: flex;flex-direction: column;align-items: center;background-color: white;padding-right: 0.2em;padding-left: 0.2em;position: relative;}#sk-container-id-1 div.sk-item {position: relative;z-index: 1;}#sk-container-id-1 div.sk-parallel {display: flex;align-items: stretch;justify-content: center;background-color: white;position: relative;}#sk-container-id-1 div.sk-item::before, #sk-container-id-1 div.sk-parallel-item::before {content: \"\";position: absolute;border-left: 1px solid gray;box-sizing: border-box;top: 0;bottom: 0;left: 50%;z-index: -1;}#sk-container-id-1 div.sk-parallel-item {display: flex;flex-direction: column;z-index: 1;position: relative;background-color: white;}#sk-container-id-1 div.sk-parallel-item:first-child::after {align-self: flex-end;width: 50%;}#sk-container-id-1 div.sk-parallel-item:last-child::after {align-self: flex-start;width: 50%;}#sk-container-id-1 div.sk-parallel-item:only-child::after {width: 0;}#sk-container-id-1 div.sk-dashed-wrapped {border: 1px dashed gray;margin: 0 0.4em 0.5em 0.4em;box-sizing: border-box;padding-bottom: 0.4em;background-color: white;}#sk-container-id-1 div.sk-label label {font-family: monospace;font-weight: bold;display: inline-block;line-height: 1.2em;}#sk-container-id-1 div.sk-label-container {text-align: center;}#sk-container-id-1 div.sk-container {/* jupyter's `normalize.less` sets `[hidden] { display: none; }` but bootstrap.min.css set `[hidden] { display: none !important; }` so we also need the `!important` here to be able to override the default hidden behavior on the sphinx rendered scikit-learn.org. See: https://github.com/scikit-learn/scikit-learn/issues/21755 */display: inline-block !important;position: relative;}#sk-container-id-1 div.sk-text-repr-fallback {display: none;}</style><div id=\"sk-container-id-1\" class=\"sk-top-container\"><div class=\"sk-text-repr-fallback\"><pre>XGBClassifier(base_score=0.5, booster=&#x27;gbtree&#x27;, colsample_bylevel=1,\n",
       "              colsample_bynode=1, colsample_bytree=1, enable_categorical=False,\n",
       "              gamma=0, gpu_id=-1, importance_type=None,\n",
       "              interaction_constraints=&#x27;&#x27;, learning_rate=0.1, max_delta_step=0,\n",
       "              max_depth=8, min_child_weight=1, missing=nan,\n",
       "              monotone_constraints=&#x27;()&#x27;, n_estimators=1000, n_jobs=-1,\n",
       "              nthread=24, num_parallel_tree=1, predictor=&#x27;auto&#x27;, random_state=0,\n",
       "              reg_alpha=0, reg_lambda=1, scale_pos_weight=1, seed=0,\n",
       "              silent=None, subsample=0.7, tree_method=&#x27;exact&#x27;,\n",
       "              validate_parameters=1, ...)</pre><b>In a Jupyter environment, please rerun this cell to show the HTML representation or trust the notebook. <br />On GitHub, the HTML representation is unable to render, please try loading this page with nbviewer.org.</b></div><div class=\"sk-container\" hidden><div class=\"sk-item\"><div class=\"sk-estimator sk-toggleable\"><input class=\"sk-toggleable__control sk-hidden--visually\" id=\"sk-estimator-id-1\" type=\"checkbox\" checked><label for=\"sk-estimator-id-1\" class=\"sk-toggleable__label sk-toggleable__label-arrow\">XGBClassifier</label><div class=\"sk-toggleable__content\"><pre>XGBClassifier(base_score=0.5, booster=&#x27;gbtree&#x27;, colsample_bylevel=1,\n",
       "              colsample_bynode=1, colsample_bytree=1, enable_categorical=False,\n",
       "              gamma=0, gpu_id=-1, importance_type=None,\n",
       "              interaction_constraints=&#x27;&#x27;, learning_rate=0.1, max_delta_step=0,\n",
       "              max_depth=8, min_child_weight=1, missing=nan,\n",
       "              monotone_constraints=&#x27;()&#x27;, n_estimators=1000, n_jobs=-1,\n",
       "              nthread=24, num_parallel_tree=1, predictor=&#x27;auto&#x27;, random_state=0,\n",
       "              reg_alpha=0, reg_lambda=1, scale_pos_weight=1, seed=0,\n",
       "              silent=None, subsample=0.7, tree_method=&#x27;exact&#x27;,\n",
       "              validate_parameters=1, ...)</pre></div></div></div></div></div>"
      ],
      "text/plain": [
       "XGBClassifier(base_score=0.5, booster='gbtree', colsample_bylevel=1,\n",
       "              colsample_bynode=1, colsample_bytree=1, enable_categorical=False,\n",
       "              gamma=0, gpu_id=-1, importance_type=None,\n",
       "              interaction_constraints='', learning_rate=0.1, max_delta_step=0,\n",
       "              max_depth=8, min_child_weight=1, missing=nan,\n",
       "              monotone_constraints='()', n_estimators=1000, n_jobs=-1,\n",
       "              nthread=24, num_parallel_tree=1, predictor='auto', random_state=0,\n",
       "              reg_alpha=0, reg_lambda=1, scale_pos_weight=1, seed=0,\n",
       "              silent=None, subsample=0.7, tree_method='exact',\n",
       "              validate_parameters=1, ...)"
      ]
     },
     "execution_count": 51,
     "metadata": {},
     "output_type": "execute_result"
    }
   ],
   "source": [
    "from xgboost import XGBClassifier\n",
    "\n",
    "clf_xgb = XGBClassifier(max_depth=8,\n",
    "    learning_rate=0.1,\n",
    "    n_estimators=1000,\n",
    "    verbosity=0,\n",
    "    silent=None,\n",
    "    objective='binary:logistic',\n",
    "    booster='gbtree',\n",
    "    n_jobs=-1,\n",
    "    nthread=None,\n",
    "    gamma=0,\n",
    "    min_child_weight=1,\n",
    "    max_delta_step=0,\n",
    "    subsample=0.7,\n",
    "    colsample_bytree=1,\n",
    "    colsample_bylevel=1,\n",
    "    colsample_bynode=1,\n",
    "    reg_alpha=0,\n",
    "    reg_lambda=1,\n",
    "    scale_pos_weight=1,\n",
    "    base_score=0.5,\n",
    "    random_state=0,\n",
    "    seed=None,)\n",
    "\n",
    "clf_xgb.fit(X_train, y_train,\n",
    "        eval_set=[(X_valid, y_valid)],\n",
    "        early_stopping_rounds=40,\n",
    "        verbose=10)"
   ]
  },
  {
   "cell_type": "code",
   "execution_count": 52,
   "metadata": {},
   "outputs": [
    {
     "name": "stdout",
     "output_type": "stream",
     "text": [
      "0.9336413537984218\n",
      "0.9244487257452103\n"
     ]
    }
   ],
   "source": [
    "preds = np.array(clf_xgb.predict_proba(X_valid))\n",
    "valid_auc = roc_auc_score(y_score=preds[:,1], y_true=y_valid)\n",
    "print(valid_auc)\n",
    "\n",
    "preds = np.array(clf_xgb.predict_proba(X_test))\n",
    "test_auc = roc_auc_score(y_score=preds[:,1], y_true=y_test)\n",
    "print(test_auc)"
   ]
  }
 ],
 "metadata": {
  "kernelspec": {
   "display_name": "Python 3",
   "language": "python",
   "name": "python3"
  },
  "language_info": {
   "codemirror_mode": {
    "name": "ipython",
    "version": 3
   },
   "file_extension": ".py",
   "mimetype": "text/x-python",
   "name": "python",
   "nbconvert_exporter": "python",
   "pygments_lexer": "ipython3",
   "version": "3.9.12"
  },
  "toc": {
   "base_numbering": 1,
   "nav_menu": {},
   "number_sections": true,
   "sideBar": true,
   "skip_h1_title": false,
   "title_cell": "Table of Contents",
   "title_sidebar": "Contents",
   "toc_cell": false,
   "toc_position": {},
   "toc_section_display": true,
   "toc_window_display": false
  }
 },
 "nbformat": 4,
 "nbformat_minor": 2
}

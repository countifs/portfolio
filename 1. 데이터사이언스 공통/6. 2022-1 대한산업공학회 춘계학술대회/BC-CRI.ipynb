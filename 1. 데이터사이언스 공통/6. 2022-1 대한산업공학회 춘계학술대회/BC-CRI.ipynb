{
 "cells": [
  {
   "cell_type": "code",
   "execution_count": 3,
   "metadata": {},
   "outputs": [
    {
     "name": "stderr",
     "output_type": "stream",
     "text": [
      "c:\\Users\\USER\\Dropbox\\PC (2)\\Desktop\\EDM_LAB\\14. 교수님논문(2)\\modules\\stableCRI.py:495: SettingWithCopyWarning: \n",
      "A value is trying to be set on a copy of a slice from a DataFrame\n",
      "\n",
      "See the caveats in the documentation: https://pandas.pydata.org/pandas-docs/stable/user_guide/indexing.html#returning-a-view-versus-a-copy\n",
      "  y_train_d.loc[:] = self.multi_to_integer(y_train_d)\n"
     ]
    }
   ],
   "source": [
    "import pandas as pd\n",
    "import numpy as np\n",
    "from sklearn.model_selection import train_test_split\n",
    "from modules.stableDT import stableDecisionTree # file 제공\n",
    "from modules.stableDT import visualize_tree # file 제공\n",
    "\n",
    "# Get the Data \n",
    "raw_df = pd.read_csv('https://raw.githubusercontent.com/countifs/rawdata/main/UCI%20-%20Breast%20Cancer%20Wisconsin%20(Original)/breastCancer.csv')\n",
    "\n",
    "def preprocess(raw_df):\n",
    "    df = raw_df.copy()\n",
    "    df = df[df['bare_nucleoli'] != '?'] # 16개의 '?' 행 제거\n",
    "    df['bare_nucleoli'] = df['bare_nucleoli'].astype(int) # 문자열을 정수형으로 변환\n",
    "    df.drop_duplicates(inplace=True) # 중복된 행 제거\n",
    "    df.replace({'class': {2: 0, 4: 1}}, inplace=True)  # 2: Benign, 4: Malignant\n",
    "    df.reset_index(drop=True, inplace=True) # index 재설정\n",
    "    df.drop(columns=['id'], axis=1, inplace=True) # id 열 제거\n",
    "    return df\n",
    "\n",
    "df = preprocess(raw_df).copy()\n",
    "\n",
    "\n",
    "# 트레인 테스트 데이터 분리\n",
    "X = df.drop(columns='class')\n",
    "y = df['class']\n",
    "\n",
    "X_train, X_test, y_train, y_test = train_test_split(X, y, test_size=0.2, random_state=25, stratify=y)\n",
    "\n",
    "from modules.stableCRI import stable_concise_rule_induction # file 제공\n",
    "data = pd.concat([X_train, y_train], axis=1)\n",
    "target_name = 'class'\n",
    "\n",
    "sample_ratio = 0.05\n",
    "\n",
    "# 최소 리프노드 샘플 수\n",
    "n_samples = int(sample_ratio * len(X_train))\n",
    "\n",
    "\n",
    "min_samples = round(sample_ratio * len(X_train))\n",
    "max_depth = 1000 # 처음에는 2 또는 3으로 설정해서 돌려보고, 소요시간을 체크해보시기 바랍니다.\n",
    "\n",
    "# 모델 생성\n",
    "cri = stable_concise_rule_induction(min_samples = min_samples, max_depth = max_depth, algorithm='adaptive', simplify = True)\n",
    "cri.fit(data = data , target_name = target_name, iter_num = 20, rule_rate = 0.9)\n",
    "\n",
    "\n",
    "# 결과 정리\n",
    "\n",
    "rule_class = []\n",
    "cover_count = []\n",
    "coverage = []\n",
    "class_0 = []\n",
    "class_1 = []\n",
    "homogeneity = []\n",
    "train = pd.concat([X_train, y_train], axis=1)\n",
    "\n",
    "df = cri.df_concise_rule.T\n",
    "rule_list = df['Rule']\n",
    "\n",
    "# rule_list 에서 ,를 ' and '로 변경\n",
    "rule_list = rule_list.str.replace(',', ' and ')\n",
    "   \n",
    "for i in range(len(rule_list)):\n",
    "    cover_count.append(len(train.query(rule_list[i]) ))\n",
    "    coverage.append(round(len(train.query(rule_list[i])) / len(train), 3 ) )\n",
    "    class_0.append( sum (train.query(rule_list[i])['class'] == 0) )\n",
    "    class_1.append( sum (train.query(rule_list[i])['class'] == 1) )\n",
    "    homogeneity.append(round( max(class_0[i], class_1[i]) / cover_count[i], 3 ) )\n",
    "    rule_class.append(0 if class_0[i] > class_1[i] else 1)\n",
    "    \n",
    "rule_df = pd.DataFrame({'rule':rule_list, 'class':rule_class, 'cover_count':cover_count, 'coverage':coverage, 'homogeneity': homogeneity,\n",
    "                    'class_0':class_0, 'class_1':class_1})    \n",
    "\n",
    "# condition컬럼에서 and 개수 찾기\n",
    "rule_df['cond_count'] = rule_df['rule'].str.count(' and ') + 1 \n",
    "\n",
    "#condition에서 부호가 모두 같으면 1, 다르면 0\n",
    "rule_df['justifiability'] = rule_df['rule'].str.contains('>=') & rule_df['rule'].str.contains('<')\n",
    "rule_df['justifiability'] = rule_df['justifiability'].astype(int)\n",
    "\n",
    "pd.set_option('display.max_colwidth', None)\n"
   ]
  },
  {
   "cell_type": "code",
   "execution_count": 4,
   "metadata": {},
   "outputs": [
    {
     "data": {
      "text/html": [
       "<div>\n",
       "<style scoped>\n",
       "    .dataframe tbody tr th:only-of-type {\n",
       "        vertical-align: middle;\n",
       "    }\n",
       "\n",
       "    .dataframe tbody tr th {\n",
       "        vertical-align: top;\n",
       "    }\n",
       "\n",
       "    .dataframe thead th {\n",
       "        text-align: right;\n",
       "    }\n",
       "</style>\n",
       "<table border=\"1\" class=\"dataframe\">\n",
       "  <thead>\n",
       "    <tr style=\"text-align: right;\">\n",
       "      <th></th>\n",
       "      <th>rule</th>\n",
       "      <th>class</th>\n",
       "      <th>cover_count</th>\n",
       "      <th>coverage</th>\n",
       "      <th>homogeneity</th>\n",
       "      <th>class_0</th>\n",
       "      <th>class_1</th>\n",
       "      <th>cond_count</th>\n",
       "      <th>justifiability</th>\n",
       "    </tr>\n",
       "  </thead>\n",
       "  <tbody>\n",
       "    <tr>\n",
       "      <th>0</th>\n",
       "      <td>shape_uniformity &lt; 1.5</td>\n",
       "      <td>0</td>\n",
       "      <td>271</td>\n",
       "      <td>0.502</td>\n",
       "      <td>0.996</td>\n",
       "      <td>270</td>\n",
       "      <td>1</td>\n",
       "      <td>1</td>\n",
       "      <td>0</td>\n",
       "    </tr>\n",
       "    <tr>\n",
       "      <th>1</th>\n",
       "      <td>size_uniformity &gt;= 4.5</td>\n",
       "      <td>1</td>\n",
       "      <td>134</td>\n",
       "      <td>0.248</td>\n",
       "      <td>0.993</td>\n",
       "      <td>1</td>\n",
       "      <td>133</td>\n",
       "      <td>1</td>\n",
       "      <td>0</td>\n",
       "    </tr>\n",
       "    <tr>\n",
       "      <th>2</th>\n",
       "      <td>size_uniformity &lt; 1.5</td>\n",
       "      <td>0</td>\n",
       "      <td>295</td>\n",
       "      <td>0.546</td>\n",
       "      <td>0.990</td>\n",
       "      <td>292</td>\n",
       "      <td>3</td>\n",
       "      <td>1</td>\n",
       "      <td>0</td>\n",
       "    </tr>\n",
       "    <tr>\n",
       "      <th>3</th>\n",
       "      <td>bare_nucleoli &gt;= 7.5</td>\n",
       "      <td>1</td>\n",
       "      <td>126</td>\n",
       "      <td>0.233</td>\n",
       "      <td>0.976</td>\n",
       "      <td>3</td>\n",
       "      <td>123</td>\n",
       "      <td>1</td>\n",
       "      <td>0</td>\n",
       "    </tr>\n",
       "  </tbody>\n",
       "</table>\n",
       "</div>"
      ],
      "text/plain": [
       "                     rule  class  cover_count  coverage  homogeneity  class_0  \\\n",
       "0  shape_uniformity < 1.5      0          271     0.502        0.996      270   \n",
       "1  size_uniformity >= 4.5      1          134     0.248        0.993        1   \n",
       "2   size_uniformity < 1.5      0          295     0.546        0.990      292   \n",
       "3    bare_nucleoli >= 7.5      1          126     0.233        0.976        3   \n",
       "\n",
       "   class_1  cond_count  justifiability  \n",
       "0        1           1               0  \n",
       "1      133           1               0  \n",
       "2        3           1               0  \n",
       "3      123           1               0  "
      ]
     },
     "execution_count": 4,
     "metadata": {},
     "output_type": "execute_result"
    }
   ],
   "source": [
    "rule_df"
   ]
  },
  {
   "cell_type": "code",
   "execution_count": 5,
   "metadata": {},
   "outputs": [],
   "source": [
    "data = pd.concat([X_train, y_train], axis=1)"
   ]
  },
  {
   "cell_type": "code",
   "execution_count": 171,
   "metadata": {},
   "outputs": [
    {
     "data": {
      "text/plain": [
       "540"
      ]
     },
     "execution_count": 171,
     "metadata": {},
     "output_type": "execute_result"
    }
   ],
   "source": [
    "len(data)"
   ]
  },
  {
   "cell_type": "code",
   "execution_count": 170,
   "metadata": {},
   "outputs": [
    {
     "data": {
      "text/plain": [
       "0    351\n",
       "1    189\n",
       "Name: class, dtype: int64"
      ]
     },
     "execution_count": 170,
     "metadata": {},
     "output_type": "execute_result"
    }
   ],
   "source": [
    "data['class'].value_counts()"
   ]
  },
  {
   "cell_type": "code",
   "execution_count": 3,
   "metadata": {},
   "outputs": [],
   "source": [
    "# CRI\n",
    "rule1 = 'shape_uniformity < 1.5'\n",
    "rule2 = 'size_uniformity >= 4.5'\n",
    "rule3 = 'size_uniformity < 1.5'\n",
    "rule4 = 'bare_nucleoli >= 7.5'"
   ]
  },
  {
   "cell_type": "code",
   "execution_count": 49,
   "metadata": {},
   "outputs": [],
   "source": [
    "# HH\n",
    "\n",
    "rule1 = 'shape_uniformity < 1.5'\n",
    "rule2 = 'shape_uniformity >= 1.5 and size_uniformity >= 4.5'\n",
    "rule3 = 'shape_uniformity >= 1.5 and size_uniformity < 4.5 and size_uniformity <1.5'\n",
    "rule4 = 'shape_uniformity >= 1.5 and size_uniformity < 4.5 and size_uniformity >= 1.5 and bare_nucleoli >= 7.5'\n",
    "rule5 = 'shape_uniformity >= 1.5 and size_uniformity < 4.5 and size_uniformity >= 1.5 and bare_nucleoli < 7.5 and normal_nucleoli < 1.5'\n",
    "rule6 = 'shape_uniformity >= 1.5 and size_uniformity < 4.5 and size_uniformity >= 1.5 and bare_nucleoli < 7.5 and normal_nucleoli >= 1.5'"
   ]
  },
  {
   "cell_type": "code",
   "execution_count": 60,
   "metadata": {},
   "outputs": [],
   "source": [
    "# cart\n",
    "\n",
    "rule1 = 'size_uniformity <= 2.5 and bare_nucleoli <= 2.5 and size_uniformity <= 1.5'\n",
    "rule2 = 'size_uniformity > 2.5 and size_uniformity > 4.5 and bare_nucleoli > 4.5'\n",
    "rule3 = 'size_uniformity <= 2.5 and bare_nucleoli <= 2.5 and size_uniformity > 1.5'\n",
    "rule4 = 'size_uniformity > 2.5 and size_uniformity > 4.5 and bare_nucleoli <= 4.5'\n",
    "rule5 = 'size_uniformity > 2.5 and size_uniformity <= 4.5 and bare_nucleoli > 3.5'\n",
    "rule6 = 'size_uniformity > 2.5 and size_uniformity <= 4.5 and bare_nucleoli <= 3.5'\n",
    "rule7 = 'size_uniformity <= 2.5 and bare_nucleoli > 2.5'"
   ]
  },
  {
   "cell_type": "code",
   "execution_count": 10,
   "metadata": {},
   "outputs": [],
   "source": [
    "data = pd.concat([X_test, y_test], axis=1)"
   ]
  },
  {
   "attachments": {},
   "cell_type": "markdown",
   "metadata": {},
   "source": [
    "# 테스트 데이터 셋 평가"
   ]
  },
  {
   "cell_type": "code",
   "execution_count": 119,
   "metadata": {},
   "outputs": [
    {
     "name": "stdout",
     "output_type": "stream",
     "text": [
      "2\n",
      "37\n",
      "0.28888888888888886\n"
     ]
    }
   ],
   "source": [
    "print(sum(data.query(rule2_0)['class']== 0) )\n",
    "print(sum(data.query(rule2_0)['class']== 1) )\n",
    "print(len(data.query(rule2_0) ) / len(data) )"
   ]
  },
  {
   "cell_type": "code",
   "execution_count": 107,
   "metadata": {},
   "outputs": [],
   "source": [
    "data = pd.concat([X_test, y_test], axis=1)"
   ]
  },
  {
   "cell_type": "code",
   "execution_count": 108,
   "metadata": {},
   "outputs": [
    {
     "data": {
      "text/plain": [
       "135"
      ]
     },
     "execution_count": 108,
     "metadata": {},
     "output_type": "execute_result"
    }
   ],
   "source": [
    "len(data)"
   ]
  },
  {
   "cell_type": "code",
   "execution_count": 164,
   "metadata": {},
   "outputs": [
    {
     "name": "stdout",
     "output_type": "stream",
     "text": [
      "1\n",
      "27\n",
      "0.2074074074074074\n"
     ]
    }
   ],
   "source": [
    "print(sum(data.query(rule1_3)['class']== 0) )\n",
    "print(sum(data.query(rule1_3)['class']== 1) )\n",
    "print(len(data.query(rule1_3) ) / len(data) )"
   ]
  },
  {
   "cell_type": "code",
   "execution_count": 165,
   "metadata": {},
   "outputs": [
    {
     "name": "stdout",
     "output_type": "stream",
     "text": [
      "2\n",
      "37\n",
      "0.28888888888888886\n"
     ]
    }
   ],
   "source": [
    "print(sum(data.query(rule2_0)['class']== 0) )\n",
    "print(sum(data.query(rule2_0)['class']== 1) )\n",
    "print(len(data.query(rule2_0) ) / len(data) )"
   ]
  },
  {
   "cell_type": "code",
   "execution_count": 166,
   "metadata": {},
   "outputs": [
    {
     "name": "stdout",
     "output_type": "stream",
     "text": [
      "1\n",
      "29\n",
      "0.2222222222222222\n"
     ]
    }
   ],
   "source": [
    "print(sum(data.query(rule3_2)['class']== 0) )\n",
    "print(sum(data.query(rule3_2)['class']== 1) )\n",
    "print(len(data.query(rule3_2) ) / len(data) )"
   ]
  },
  {
   "cell_type": "code",
   "execution_count": 167,
   "metadata": {},
   "outputs": [
    {
     "name": "stdout",
     "output_type": "stream",
     "text": [
      "2\n",
      "35\n",
      "0.2740740740740741\n"
     ]
    }
   ],
   "source": [
    "print(sum(data.query(rule4_1)['class']== 0) )\n",
    "print(sum(data.query(rule4_1)['class']== 1) )\n",
    "print(len(data.query(rule4_1) ) / len(data) )"
   ]
  },
  {
   "cell_type": "code",
   "execution_count": 138,
   "metadata": {},
   "outputs": [
    {
     "name": "stdout",
     "output_type": "stream",
     "text": [
      "80\n",
      "0\n",
      "0.5925925925925926\n"
     ]
    }
   ],
   "source": [
    "print(sum(data.query(rule5)['class']== 0) )\n",
    "print(sum(data.query(rule5)['class']== 1) )\n",
    "print(len(data.query(rule5) ) / len(data) )"
   ]
  },
  {
   "cell_type": "code",
   "execution_count": 139,
   "metadata": {},
   "outputs": [
    {
     "name": "stdout",
     "output_type": "stream",
     "text": [
      "86\n",
      "3\n",
      "0.6592592592592592\n"
     ]
    }
   ],
   "source": [
    "print(sum(data.query(rule6)['class']== 0) )\n",
    "print(sum(data.query(rule6)['class']== 1) )\n",
    "print(len(data.query(rule6) ) / len(data) )"
   ]
  },
  {
   "cell_type": "code",
   "execution_count": 140,
   "metadata": {},
   "outputs": [
    {
     "name": "stdout",
     "output_type": "stream",
     "text": [
      "3\n",
      "21\n",
      "0.17777777777777778\n"
     ]
    }
   ],
   "source": [
    "print(sum(data.query(rule7)['class']== 0) )\n",
    "print(sum(data.query(rule7)['class']== 1) )\n",
    "print(len(data.query(rule7) ) / len(data) )"
   ]
  },
  {
   "cell_type": "code",
   "execution_count": 128,
   "metadata": {},
   "outputs": [
    {
     "data": {
      "text/plain": [
       "0    88\n",
       "1    47\n",
       "Name: class, dtype: int64"
      ]
     },
     "execution_count": 128,
     "metadata": {},
     "output_type": "execute_result"
    }
   ],
   "source": [
    "data['class'].value_counts()"
   ]
  },
  {
   "attachments": {},
   "cell_type": "markdown",
   "metadata": {},
   "source": [
    "---"
   ]
  },
  {
   "cell_type": "code",
   "execution_count": 124,
   "metadata": {},
   "outputs": [],
   "source": [
    "# Ripper\n",
    "\n",
    "rule1_3 = 'bland_chromatin >= 4 and bare_nucleoli >= 8'\n",
    "rule2_0 = 'size_uniformity >= 4 and size_uniformity >= 5'\n",
    "rule3_2 = 'shape_uniformity >= 4 and marginal_adhesion >= 4'\n",
    "rule4_1 = 'bare_nucleoli >= 3 and clump_thickness >= 5'"
   ]
  },
  {
   "cell_type": "markdown",
   "metadata": {},
   "source": [
    "# 1. rule1"
   ]
  },
  {
   "cell_type": "code",
   "execution_count": 161,
   "metadata": {},
   "outputs": [
    {
     "name": "stdout",
     "output_type": "stream",
     "text": [
      "135\n",
      "2\n",
      "37\n"
     ]
    }
   ],
   "source": [
    "print(len(data))\n",
    "print(data.query(rule2_0)['class'].eq(0).sum() )\n",
    "print(data.query(rule2_0)['class'].eq(1).sum() )"
   ]
  },
  {
   "cell_type": "markdown",
   "metadata": {},
   "source": [
    "# 2. (not rule1) and (rule2)"
   ]
  },
  {
   "cell_type": "code",
   "execution_count": 162,
   "metadata": {},
   "outputs": [
    {
     "name": "stdout",
     "output_type": "stream",
     "text": [
      "96\n",
      "0\n",
      "8\n"
     ]
    }
   ],
   "source": [
    "print(len(data.query(f'~({rule2_0})')) )\n",
    "\n",
    "print(data.query(f'~({rule2_0})').query(rule4_1)['class'].eq(0).sum() )\n",
    "print(data.query(f'~({rule2_0})').query(rule4_1)['class'].eq(1).sum() )"
   ]
  },
  {
   "cell_type": "markdown",
   "metadata": {},
   "source": [
    "# 3. (not rule1) and (not rule2) and (rule3)"
   ]
  },
  {
   "cell_type": "code",
   "execution_count": null,
   "metadata": {},
   "outputs": [
    {
     "name": "stdout",
     "output_type": "stream",
     "text": [
      "104\n",
      "2\n",
      "7\n"
     ]
    }
   ],
   "source": [
    "print(len(data.query(f'~({rule3_0})').query(f'~({rule2_1})')) )\n",
    "\n",
    "print(data.query(f'~({rule3_0})').query(f'~({rule2_1})').query(rule1_2)['class'].eq(0).sum() )\n",
    "print(data.query(f'~({rule3_0})').query(f'~({rule2_1})').query(rule1_2)['class'].eq(1).sum() )"
   ]
  },
  {
   "cell_type": "markdown",
   "metadata": {},
   "source": [
    "# 4. (not rule1) and (not rule2) and (not rule3) and (rule4)"
   ]
  },
  {
   "cell_type": "code",
   "execution_count": null,
   "metadata": {},
   "outputs": [
    {
     "name": "stdout",
     "output_type": "stream",
     "text": [
      "95\n",
      "13\n",
      "2\n"
     ]
    }
   ],
   "source": [
    "print(len(data.query(f'~({rule3_0})').query(f'~({rule2_1})').query(f'~({rule1_2})') ) )\n",
    "\n",
    "print(data.query(f'~({rule3_0})').query(f'~({rule2_1})').query(f'~({rule1_2})').query(rule4_3)['class'].eq(0).sum() )\n",
    "print(data.query(f'~({rule3_0})').query(f'~({rule2_1})').query(f'~({rule1_2})').query(rule4_3)['class'].eq(1).sum() )"
   ]
  },
  {
   "attachments": {},
   "cell_type": "markdown",
   "metadata": {},
   "source": [
    "---"
   ]
  },
  {
   "cell_type": "code",
   "execution_count": 142,
   "metadata": {},
   "outputs": [],
   "source": [
    "# CN2\n",
    "\n",
    "rule1_2 = 'bare_nucleoli>=6.0 and shape_uniformity>=5.0'\n",
    "rule2_1 = 'size_uniformity>=5.0 and clump_thickness>=7.0'\n",
    "rule3_0 = 'normal_nucleoli>=9.0'\n",
    "rule4_3 = 'normal_nucleoli<=3.0 and shape_uniformity<=2.0 and marginal_adhesion>=2.0'\n",
    "rule5_4 = 'bare_nucleoli<=2.0 and epithelial_size<=4.0 and epithelial_size<=3.0'\n",
    "rule6_6 = 'size_uniformity<=5.0 and mitoses<=3.0 and bare_nucleoli<=7.0'\n",
    "rule7_5 = 'clump_thickness>=5.0 and bare_nucleoli>=2.0 and normal_nucleoli<=7.0'"
   ]
  },
  {
   "attachments": {},
   "cell_type": "markdown",
   "metadata": {},
   "source": [
    "# 1. rule1"
   ]
  },
  {
   "cell_type": "code",
   "execution_count": 143,
   "metadata": {},
   "outputs": [
    {
     "name": "stdout",
     "output_type": "stream",
     "text": [
      "135\n",
      "0\n",
      "17\n"
     ]
    }
   ],
   "source": [
    "print(len(data))\n",
    "print(data.query(rule3_0)['class'].eq(0).sum() )\n",
    "print(data.query(rule3_0)['class'].eq(1).sum() )"
   ]
  },
  {
   "attachments": {},
   "cell_type": "markdown",
   "metadata": {},
   "source": [
    "# 2. (not rule1) and (rule2)"
   ]
  },
  {
   "cell_type": "code",
   "execution_count": 145,
   "metadata": {},
   "outputs": [
    {
     "name": "stdout",
     "output_type": "stream",
     "text": [
      "118\n",
      "0\n",
      "14\n"
     ]
    }
   ],
   "source": [
    "print(len(data.query(f'~({rule3_0})')) )\n",
    "\n",
    "print(data.query(f'~({rule3_0})').query(rule2_1)['class'].eq(0).sum() )\n",
    "print(data.query(f'~({rule3_0})').query(rule2_1)['class'].eq(1).sum() )"
   ]
  },
  {
   "attachments": {},
   "cell_type": "markdown",
   "metadata": {},
   "source": [
    "# 3. (not rule1) and (not rule2) and (rule3)"
   ]
  },
  {
   "cell_type": "code",
   "execution_count": 146,
   "metadata": {},
   "outputs": [
    {
     "name": "stdout",
     "output_type": "stream",
     "text": [
      "104\n",
      "2\n",
      "7\n"
     ]
    }
   ],
   "source": [
    "print(len(data.query(f'~({rule3_0})').query(f'~({rule2_1})')) )\n",
    "\n",
    "print(data.query(f'~({rule3_0})').query(f'~({rule2_1})').query(rule1_2)['class'].eq(0).sum() )\n",
    "print(data.query(f'~({rule3_0})').query(f'~({rule2_1})').query(rule1_2)['class'].eq(1).sum() )"
   ]
  },
  {
   "attachments": {},
   "cell_type": "markdown",
   "metadata": {},
   "source": [
    "# 4. (not rule1) and (not rule2) and (not rule3) and (rule4)"
   ]
  },
  {
   "cell_type": "code",
   "execution_count": 151,
   "metadata": {},
   "outputs": [
    {
     "name": "stdout",
     "output_type": "stream",
     "text": [
      "95\n",
      "13\n",
      "2\n"
     ]
    }
   ],
   "source": [
    "print(len(data.query(f'~({rule3_0})').query(f'~({rule2_1})').query(f'~({rule1_2})') ) )\n",
    "\n",
    "print(data.query(f'~({rule3_0})').query(f'~({rule2_1})').query(f'~({rule1_2})').query(rule4_3)['class'].eq(0).sum() )\n",
    "print(data.query(f'~({rule3_0})').query(f'~({rule2_1})').query(f'~({rule1_2})').query(rule4_3)['class'].eq(1).sum() )"
   ]
  },
  {
   "attachments": {},
   "cell_type": "markdown",
   "metadata": {},
   "source": [
    "# 5. (not rule1) and (not rule2) and (not rule3) and (not rule4) and (rule5)"
   ]
  },
  {
   "cell_type": "code",
   "execution_count": 155,
   "metadata": {},
   "outputs": [
    {
     "name": "stdout",
     "output_type": "stream",
     "text": [
      "80\n",
      "69\n",
      "0\n"
     ]
    }
   ],
   "source": [
    "print(len(data.query(f'~({rule3_0})').query(f'~({rule2_1})').query(f'~({rule1_2})').query(f'~({rule4_3})') ) )\n",
    "\n",
    "print(data.query(f'~({rule3_0})').query(f'~({rule2_1})').query(f'~({rule1_2})').query(f'~({rule4_3})').query(rule5_4)['class'].eq(0).sum() )\n",
    "print(data.query(f'~({rule3_0})').query(f'~({rule2_1})').query(f'~({rule1_2})').query(f'~({rule4_3})').query(rule5_4)['class'].eq(1).sum() )"
   ]
  },
  {
   "attachments": {},
   "cell_type": "markdown",
   "metadata": {},
   "source": [
    "# (not rule1) and (not rule2) and (not rule3) and (not rule4) and (not rule5) and (rule6)"
   ]
  },
  {
   "cell_type": "code",
   "execution_count": 153,
   "metadata": {},
   "outputs": [
    {
     "name": "stdout",
     "output_type": "stream",
     "text": [
      "11\n",
      "0\n",
      "6\n"
     ]
    }
   ],
   "source": [
    "print(len(data.query(f'~({rule3_0})').query(f'~({rule2_1})').query(f'~({rule1_2})').query(f'~({rule4_3})').query(f'~({rule5_4})') ) )\n",
    "          \n",
    "          \n",
    "print(data.query(f'~({rule3_0})').query(f'~({rule2_1})').query(f'~({rule1_2})').query(f'~({rule4_3})').query(f'~({rule5_4})').query(rule7_5)['class'].eq(0).sum() )\n",
    "print(data.query(f'~({rule3_0})').query(f'~({rule2_1})').query(f'~({rule1_2})').query(f'~({rule4_3})').query(f'~({rule5_4})').query(rule7_5)['class'].eq(1).sum() )"
   ]
  },
  {
   "attachments": {},
   "cell_type": "markdown",
   "metadata": {},
   "source": [
    "# (not rule1) and (not rule2) and (not rule3) and (not rule4) and (not rule5) and (not rule6) and (rule7)"
   ]
  },
  {
   "cell_type": "code",
   "execution_count": 154,
   "metadata": {},
   "outputs": [
    {
     "name": "stdout",
     "output_type": "stream",
     "text": [
      "5\n",
      "4\n",
      "0\n"
     ]
    }
   ],
   "source": [
    "print(len(data.query(f'~({rule3_0})').query(f'~({rule2_1})').query(f'~({rule1_2})').query(f'~({rule4_3})').query(f'~({rule5_4})').query(f'~({rule7_5})') ) )\n",
    "          \n",
    "          \n",
    "print(data.query(f'~({rule3_0})').query(f'~({rule2_1})').query(f'~({rule1_2})').query(f'~({rule4_3})').query(f'~({rule5_4})').query(f'~({rule7_5})').query(rule6_6)['class'].eq(0).sum() )\n",
    "print(data.query(f'~({rule3_0})').query(f'~({rule2_1})').query(f'~({rule1_2})').query(f'~({rule4_3})').query(f'~({rule5_4})').query(f'~({rule7_5})').query(rule6_6)['class'].eq(1).sum() )"
   ]
  },
  {
   "cell_type": "code",
   "execution_count": 160,
   "metadata": {},
   "outputs": [
    {
     "data": {
      "text/html": [
       "<div>\n",
       "<style scoped>\n",
       "    .dataframe tbody tr th:only-of-type {\n",
       "        vertical-align: middle;\n",
       "    }\n",
       "\n",
       "    .dataframe tbody tr th {\n",
       "        vertical-align: top;\n",
       "    }\n",
       "\n",
       "    .dataframe thead th {\n",
       "        text-align: right;\n",
       "    }\n",
       "</style>\n",
       "<table border=\"1\" class=\"dataframe\">\n",
       "  <thead>\n",
       "    <tr style=\"text-align: right;\">\n",
       "      <th></th>\n",
       "      <th>clump_thickness</th>\n",
       "      <th>size_uniformity</th>\n",
       "      <th>shape_uniformity</th>\n",
       "      <th>marginal_adhesion</th>\n",
       "      <th>epithelial_size</th>\n",
       "      <th>bare_nucleoli</th>\n",
       "      <th>bland_chromatin</th>\n",
       "      <th>normal_nucleoli</th>\n",
       "      <th>mitoses</th>\n",
       "      <th>class</th>\n",
       "    </tr>\n",
       "  </thead>\n",
       "  <tbody>\n",
       "    <tr>\n",
       "      <th>673</th>\n",
       "      <td>4</td>\n",
       "      <td>8</td>\n",
       "      <td>6</td>\n",
       "      <td>4</td>\n",
       "      <td>3</td>\n",
       "      <td>4</td>\n",
       "      <td>10</td>\n",
       "      <td>6</td>\n",
       "      <td>1</td>\n",
       "      <td>1</td>\n",
       "    </tr>\n",
       "  </tbody>\n",
       "</table>\n",
       "</div>"
      ],
      "text/plain": [
       "     clump_thickness  size_uniformity  shape_uniformity  marginal_adhesion  \\\n",
       "673                4                8                 6                  4   \n",
       "\n",
       "     epithelial_size  bare_nucleoli  bland_chromatin  normal_nucleoli  \\\n",
       "673                3              4               10                6   \n",
       "\n",
       "     mitoses  class  \n",
       "673        1      1  "
      ]
     },
     "execution_count": 160,
     "metadata": {},
     "output_type": "execute_result"
    }
   ],
   "source": [
    "data.query(f'~({rule3_0})').query(f'~({rule2_1})').query(f'~({rule1_2})').query(f'~({rule4_3})').query(f'~({rule5_4})').query(f'~({rule7_5})') .query(f'~({rule6_6})') "
   ]
  },
  {
   "cell_type": "code",
   "execution_count": 4,
   "metadata": {},
   "outputs": [
    {
     "name": "stdout",
     "output_type": "stream",
     "text": [
      "0.9704\n",
      "0.9674\n"
     ]
    },
    {
     "name": "stderr",
     "output_type": "stream",
     "text": [
      "c:\\Users\\USER\\Dropbox\\PC (2)\\Desktop\\EDM_LAB\\14. 교수님논문(2)\\modules\\stableCRI.py:561: SettingWithCopyWarning: \n",
      "A value is trying to be set on a copy of a slice from a DataFrame\n",
      "\n",
      "See the caveats in the documentation: https://pandas.pydata.org/pandas-docs/stable/user_guide/indexing.html#returning-a-view-versus-a-copy\n",
      "  y.loc[:] = self.multi_to_integer(y)\n"
     ]
    }
   ],
   "source": [
    "# predictive performance\n",
    "from sklearn.metrics import accuracy_score\n",
    "from sklearn.metrics import f1_score\n",
    "from sklearn.metrics import confusion_matrix\n",
    "\n",
    "data_test = pd.concat([X_test, y_test], axis=1)\n",
    "pred_y, acc, f1 = cri.predict(data_test)\n",
    "print(acc)\n",
    "print(f1)"
   ]
  },
  {
   "cell_type": "code",
   "execution_count": 7,
   "metadata": {},
   "outputs": [
    {
     "name": "stdout",
     "output_type": "stream",
     "text": [
      "   A  B\n",
      "0  1  4\n",
      "1  2  5\n",
      "2  3  6\n",
      "3  4  7\n",
      "4  5  8\n",
      "5  6  9\n"
     ]
    }
   ],
   "source": [
    "import pandas as pd\n",
    "\n",
    "# Create two dataframes\n",
    "df1 = pd.DataFrame({'A': [1, 2, 3], 'B': [4, 5, 6]})\n",
    "df2 = pd.DataFrame({'A': [4, 5, 6], 'B': [7, 8, 9]})\n",
    "\n",
    "# Concatenate the two dataframes\n",
    "union = pd.concat([df1, df2], axis=0, ignore_index=True)\n",
    "\n",
    "print(union)"
   ]
  },
  {
   "cell_type": "code",
   "execution_count": 43,
   "metadata": {},
   "outputs": [],
   "source": [
    "rule1 = data.query('shape_uniformity < 1.5')\n",
    "rule2 = data.query('size_uniformity >= 4.5')\n",
    "rule3 = data.query('size_uniformity < 1.5')\n",
    "rule4 = data.query('bare_nucleoli >= 7.5')"
   ]
  },
  {
   "cell_type": "code",
   "execution_count": 53,
   "metadata": {},
   "outputs": [
    {
     "data": {
      "text/html": [
       "<div>\n",
       "<style scoped>\n",
       "    .dataframe tbody tr th:only-of-type {\n",
       "        vertical-align: middle;\n",
       "    }\n",
       "\n",
       "    .dataframe tbody tr th {\n",
       "        vertical-align: top;\n",
       "    }\n",
       "\n",
       "    .dataframe thead th {\n",
       "        text-align: right;\n",
       "    }\n",
       "</style>\n",
       "<table border=\"1\" class=\"dataframe\">\n",
       "  <thead>\n",
       "    <tr style=\"text-align: right;\">\n",
       "      <th></th>\n",
       "      <th>clump_thickness</th>\n",
       "      <th>size_uniformity</th>\n",
       "      <th>shape_uniformity</th>\n",
       "      <th>marginal_adhesion</th>\n",
       "      <th>epithelial_size</th>\n",
       "      <th>bare_nucleoli</th>\n",
       "      <th>bland_chromatin</th>\n",
       "      <th>normal_nucleoli</th>\n",
       "      <th>mitoses</th>\n",
       "      <th>class</th>\n",
       "    </tr>\n",
       "  </thead>\n",
       "  <tbody>\n",
       "    <tr>\n",
       "      <th>0</th>\n",
       "      <td>5</td>\n",
       "      <td>1</td>\n",
       "      <td>1</td>\n",
       "      <td>1</td>\n",
       "      <td>2</td>\n",
       "      <td>1</td>\n",
       "      <td>3</td>\n",
       "      <td>1</td>\n",
       "      <td>1</td>\n",
       "      <td>0</td>\n",
       "    </tr>\n",
       "    <tr>\n",
       "      <th>3</th>\n",
       "      <td>6</td>\n",
       "      <td>8</td>\n",
       "      <td>8</td>\n",
       "      <td>1</td>\n",
       "      <td>3</td>\n",
       "      <td>4</td>\n",
       "      <td>3</td>\n",
       "      <td>7</td>\n",
       "      <td>1</td>\n",
       "      <td>0</td>\n",
       "    </tr>\n",
       "    <tr>\n",
       "      <th>4</th>\n",
       "      <td>4</td>\n",
       "      <td>1</td>\n",
       "      <td>1</td>\n",
       "      <td>3</td>\n",
       "      <td>2</td>\n",
       "      <td>1</td>\n",
       "      <td>3</td>\n",
       "      <td>1</td>\n",
       "      <td>1</td>\n",
       "      <td>0</td>\n",
       "    </tr>\n",
       "    <tr>\n",
       "      <th>5</th>\n",
       "      <td>8</td>\n",
       "      <td>10</td>\n",
       "      <td>10</td>\n",
       "      <td>8</td>\n",
       "      <td>7</td>\n",
       "      <td>10</td>\n",
       "      <td>9</td>\n",
       "      <td>7</td>\n",
       "      <td>1</td>\n",
       "      <td>1</td>\n",
       "    </tr>\n",
       "    <tr>\n",
       "      <th>6</th>\n",
       "      <td>1</td>\n",
       "      <td>1</td>\n",
       "      <td>1</td>\n",
       "      <td>1</td>\n",
       "      <td>2</td>\n",
       "      <td>10</td>\n",
       "      <td>3</td>\n",
       "      <td>1</td>\n",
       "      <td>1</td>\n",
       "      <td>0</td>\n",
       "    </tr>\n",
       "    <tr>\n",
       "      <th>...</th>\n",
       "      <td>...</td>\n",
       "      <td>...</td>\n",
       "      <td>...</td>\n",
       "      <td>...</td>\n",
       "      <td>...</td>\n",
       "      <td>...</td>\n",
       "      <td>...</td>\n",
       "      <td>...</td>\n",
       "      <td>...</td>\n",
       "      <td>...</td>\n",
       "    </tr>\n",
       "    <tr>\n",
       "      <th>669</th>\n",
       "      <td>3</td>\n",
       "      <td>1</td>\n",
       "      <td>1</td>\n",
       "      <td>1</td>\n",
       "      <td>2</td>\n",
       "      <td>1</td>\n",
       "      <td>2</td>\n",
       "      <td>1</td>\n",
       "      <td>2</td>\n",
       "      <td>0</td>\n",
       "    </tr>\n",
       "    <tr>\n",
       "      <th>670</th>\n",
       "      <td>3</td>\n",
       "      <td>1</td>\n",
       "      <td>1</td>\n",
       "      <td>1</td>\n",
       "      <td>3</td>\n",
       "      <td>2</td>\n",
       "      <td>1</td>\n",
       "      <td>1</td>\n",
       "      <td>1</td>\n",
       "      <td>0</td>\n",
       "    </tr>\n",
       "    <tr>\n",
       "      <th>671</th>\n",
       "      <td>2</td>\n",
       "      <td>1</td>\n",
       "      <td>1</td>\n",
       "      <td>1</td>\n",
       "      <td>2</td>\n",
       "      <td>1</td>\n",
       "      <td>1</td>\n",
       "      <td>1</td>\n",
       "      <td>1</td>\n",
       "      <td>0</td>\n",
       "    </tr>\n",
       "    <tr>\n",
       "      <th>672</th>\n",
       "      <td>5</td>\n",
       "      <td>10</td>\n",
       "      <td>10</td>\n",
       "      <td>3</td>\n",
       "      <td>7</td>\n",
       "      <td>3</td>\n",
       "      <td>8</td>\n",
       "      <td>10</td>\n",
       "      <td>2</td>\n",
       "      <td>1</td>\n",
       "    </tr>\n",
       "    <tr>\n",
       "      <th>674</th>\n",
       "      <td>4</td>\n",
       "      <td>8</td>\n",
       "      <td>8</td>\n",
       "      <td>5</td>\n",
       "      <td>4</td>\n",
       "      <td>5</td>\n",
       "      <td>10</td>\n",
       "      <td>4</td>\n",
       "      <td>1</td>\n",
       "      <td>1</td>\n",
       "    </tr>\n",
       "  </tbody>\n",
       "</table>\n",
       "<p>405 rows × 10 columns</p>\n",
       "</div>"
      ],
      "text/plain": [
       "     clump_thickness  size_uniformity  shape_uniformity  marginal_adhesion  \\\n",
       "0                  5                1                 1                  1   \n",
       "3                  6                8                 8                  1   \n",
       "4                  4                1                 1                  3   \n",
       "5                  8               10                10                  8   \n",
       "6                  1                1                 1                  1   \n",
       "..               ...              ...               ...                ...   \n",
       "669                3                1                 1                  1   \n",
       "670                3                1                 1                  1   \n",
       "671                2                1                 1                  1   \n",
       "672                5               10                10                  3   \n",
       "674                4                8                 8                  5   \n",
       "\n",
       "     epithelial_size  bare_nucleoli  bland_chromatin  normal_nucleoli  \\\n",
       "0                  2              1                3                1   \n",
       "3                  3              4                3                7   \n",
       "4                  2              1                3                1   \n",
       "5                  7             10                9                7   \n",
       "6                  2             10                3                1   \n",
       "..               ...            ...              ...              ...   \n",
       "669                2              1                2                1   \n",
       "670                3              2                1                1   \n",
       "671                2              1                1                1   \n",
       "672                7              3                8               10   \n",
       "674                4              5               10                4   \n",
       "\n",
       "     mitoses  class  \n",
       "0          1      0  \n",
       "3          1      0  \n",
       "4          1      0  \n",
       "5          1      1  \n",
       "6          1      0  \n",
       "..       ...    ...  \n",
       "669        2      0  \n",
       "670        1      0  \n",
       "671        1      0  \n",
       "672        2      1  \n",
       "674        1      1  \n",
       "\n",
       "[405 rows x 10 columns]"
      ]
     },
     "execution_count": 53,
     "metadata": {},
     "output_type": "execute_result"
    }
   ],
   "source": [
    "index_union = rule1.index.union(rule2.index)\n",
    "data.loc[index_union]."
   ]
  },
  {
   "cell_type": "code",
   "execution_count": 58,
   "metadata": {},
   "outputs": [
    {
     "data": {
      "text/plain": [
       "0.996"
      ]
     },
     "execution_count": 58,
     "metadata": {},
     "output_type": "execute_result"
    }
   ],
   "source": [
    "round(max(len(rule1[rule1['class'] == 0]), len(rule1[rule1['class'] == 1])) / len(rule1), 3)"
   ]
  },
  {
   "cell_type": "code",
   "execution_count": 61,
   "metadata": {},
   "outputs": [
    {
     "name": "stdout",
     "output_type": "stream",
     "text": [
      "0.5018518518518519\n",
      "270\n",
      "270\n",
      "0.996\n"
     ]
    }
   ],
   "source": [
    "def qualit_rule_df(rule_df):\n",
    "    cover = len(rule_df)/len(data)\n",
    "    class_0_len = len(rule_df[rule_df['class'] == 0])\n",
    "    class_1_len = len(rule_df[rule_df['class'] == 0])\n",
    "    homo = round(max(class_0_len, class_1_len) / len(rule_df), 3)\n",
    "    \n",
    "    print(cover)\n",
    "    print(class_0_len)\n",
    "    print(class_1_len)\n",
    "    print(homo)\n",
    "    \n",
    "    return \n",
    "    \n",
    "qualit_rule_df(rule1)"
   ]
  },
  {
   "cell_type": "code",
   "execution_count": 47,
   "metadata": {},
   "outputs": [
    {
     "name": "stdout",
     "output_type": "stream",
     "text": [
      "Index(['a', 'b', 'c', 'e', 'f'], dtype='object')\n"
     ]
    }
   ],
   "source": [
    "import pandas as pd\n",
    "\n",
    "# 샘플 데이터프레임 생성\n",
    "df1 = pd.DataFrame({'A': [1, 2, 3], 'B': [4, 5, 6]}, index=['a', 'b', 'c'])\n",
    "df2 = pd.DataFrame({'A': [2, 5, 6], 'B': [5, 8, 9]}, index=['b', 'e', 'f'])\n",
    "\n",
    "# 인덱스의 합집합 구하기\n",
    "index_union = df1.index.union(df2.index)\n",
    "\n",
    "# 결과 출력\n",
    "print(index_union)"
   ]
  },
  {
   "cell_type": "code",
   "execution_count": null,
   "metadata": {},
   "outputs": [],
   "source": []
  },
  {
   "cell_type": "code",
   "execution_count": 10,
   "metadata": {},
   "outputs": [
    {
     "name": "stdout",
     "output_type": "stream",
     "text": [
      "   A_x  B_x  A_y  B_y\n",
      "3    3    6    4    7\n"
     ]
    }
   ],
   "source": [
    "import pandas as pd\n",
    "\n",
    "# Create two dataframes\n",
    "df1 = pd.DataFrame({'A': [1, 2, 3], 'B': [4, 5, 6]}, index=[1, 2, 3])\n",
    "df2 = pd.DataFrame({'A': [4, 5, 6], 'B': [7, 8, 9]}, index=[3, 4, 5])\n",
    "\n",
    "# Merge the two dataframes\n",
    "union = pd.merge(df1, df2, how='inner', left_index=True, right_index=True)\n",
    "\n",
    "print(union)"
   ]
  },
  {
   "cell_type": "code",
   "execution_count": 13,
   "metadata": {},
   "outputs": [
    {
     "name": "stdout",
     "output_type": "stream",
     "text": [
      "     A  B    D\n",
      "0  1.0  4  NaN\n",
      "1  2.0  5  NaN\n",
      "2  3.0  6  NaN\n",
      "0  NaN  4  7.0\n",
      "1  NaN  5  8.0\n",
      "2  NaN  6  9.0\n"
     ]
    }
   ],
   "source": [
    "import pandas as pd\n",
    "\n",
    "# Create two dataframes\n",
    "df1 = pd.DataFrame({'A': [1, 2, 3], 'B': [4, 5, 6]})\n",
    "df2 = pd.DataFrame({'B': [4, 5, 6], 'D': [7, 8, 9]})\n",
    "\n",
    "# Concatenate the two dataframes\n",
    "union = pd.concat([df1, df2], axis=0)\n",
    "\n",
    "print(union)"
   ]
  },
  {
   "cell_type": "code",
   "execution_count": 14,
   "metadata": {},
   "outputs": [
    {
     "name": "stdout",
     "output_type": "stream",
     "text": [
      "   A  B\n",
      "0  1  4\n",
      "1  2  5\n",
      "2  3  6\n",
      "3  4  7\n",
      "4  5  8\n",
      "5  6  9\n"
     ]
    }
   ],
   "source": [
    "import pandas as pd\n",
    "\n",
    "# Create two dataframes\n",
    "df1 = pd.DataFrame({'A': [1, 2, 3], 'B': [4, 5, 6]})\n",
    "df2 = pd.DataFrame({'A': [4, 5, 6], 'B': [7, 8, 9]})\n",
    "\n",
    "# Concatenate the two dataframes\n",
    "union = pd.concat([df1, df2], ignore_index=True)\n",
    "\n",
    "print(union)"
   ]
  },
  {
   "cell_type": "code",
   "execution_count": 26,
   "metadata": {},
   "outputs": [],
   "source": [
    "import pandas as pd\n",
    "\n",
    "# Create two dataframes with index\n",
    "df1 = pd.DataFrame({'A': [1, 2, 3], 'B': [4, 5, 6]}, index=['a', 'b', 'c'])\n",
    "df2 = pd.DataFrame({'A': [2, 5, 6], 'B': [5, 8, 9]}, index=['b', 'e', 'f'])\n"
   ]
  },
  {
   "cell_type": "code",
   "execution_count": 27,
   "metadata": {},
   "outputs": [
    {
     "data": {
      "text/html": [
       "<div>\n",
       "<style scoped>\n",
       "    .dataframe tbody tr th:only-of-type {\n",
       "        vertical-align: middle;\n",
       "    }\n",
       "\n",
       "    .dataframe tbody tr th {\n",
       "        vertical-align: top;\n",
       "    }\n",
       "\n",
       "    .dataframe thead th {\n",
       "        text-align: right;\n",
       "    }\n",
       "</style>\n",
       "<table border=\"1\" class=\"dataframe\">\n",
       "  <thead>\n",
       "    <tr style=\"text-align: right;\">\n",
       "      <th></th>\n",
       "      <th>A</th>\n",
       "      <th>B</th>\n",
       "    </tr>\n",
       "  </thead>\n",
       "  <tbody>\n",
       "    <tr>\n",
       "      <th>a</th>\n",
       "      <td>1</td>\n",
       "      <td>4</td>\n",
       "    </tr>\n",
       "    <tr>\n",
       "      <th>b</th>\n",
       "      <td>2</td>\n",
       "      <td>5</td>\n",
       "    </tr>\n",
       "    <tr>\n",
       "      <th>c</th>\n",
       "      <td>3</td>\n",
       "      <td>6</td>\n",
       "    </tr>\n",
       "  </tbody>\n",
       "</table>\n",
       "</div>"
      ],
      "text/plain": [
       "   A  B\n",
       "a  1  4\n",
       "b  2  5\n",
       "c  3  6"
      ]
     },
     "execution_count": 27,
     "metadata": {},
     "output_type": "execute_result"
    }
   ],
   "source": [
    "df1"
   ]
  },
  {
   "cell_type": "code",
   "execution_count": 28,
   "metadata": {},
   "outputs": [
    {
     "data": {
      "text/html": [
       "<div>\n",
       "<style scoped>\n",
       "    .dataframe tbody tr th:only-of-type {\n",
       "        vertical-align: middle;\n",
       "    }\n",
       "\n",
       "    .dataframe tbody tr th {\n",
       "        vertical-align: top;\n",
       "    }\n",
       "\n",
       "    .dataframe thead th {\n",
       "        text-align: right;\n",
       "    }\n",
       "</style>\n",
       "<table border=\"1\" class=\"dataframe\">\n",
       "  <thead>\n",
       "    <tr style=\"text-align: right;\">\n",
       "      <th></th>\n",
       "      <th>A</th>\n",
       "      <th>B</th>\n",
       "    </tr>\n",
       "  </thead>\n",
       "  <tbody>\n",
       "    <tr>\n",
       "      <th>b</th>\n",
       "      <td>2</td>\n",
       "      <td>5</td>\n",
       "    </tr>\n",
       "    <tr>\n",
       "      <th>e</th>\n",
       "      <td>5</td>\n",
       "      <td>8</td>\n",
       "    </tr>\n",
       "    <tr>\n",
       "      <th>f</th>\n",
       "      <td>6</td>\n",
       "      <td>9</td>\n",
       "    </tr>\n",
       "  </tbody>\n",
       "</table>\n",
       "</div>"
      ],
      "text/plain": [
       "   A  B\n",
       "b  2  5\n",
       "e  5  8\n",
       "f  6  9"
      ]
     },
     "execution_count": 28,
     "metadata": {},
     "output_type": "execute_result"
    }
   ],
   "source": [
    "df2"
   ]
  },
  {
   "cell_type": "code",
   "execution_count": 29,
   "metadata": {},
   "outputs": [
    {
     "name": "stdout",
     "output_type": "stream",
     "text": [
      "   A  B\n",
      "a  1  4\n",
      "b  2  5\n",
      "c  3  6\n",
      "b  2  5\n",
      "e  5  8\n",
      "f  6  9\n"
     ]
    }
   ],
   "source": [
    "# Concatenate the two dataframes with index\n",
    "union = pd.concat([df1, df2], ignore_index=False)\n",
    "\n",
    "print(union)"
   ]
  },
  {
   "cell_type": "code",
   "execution_count": 30,
   "metadata": {},
   "outputs": [
    {
     "name": "stdout",
     "output_type": "stream",
     "text": [
      "   A  B\n",
      "a  1  4\n",
      "b  2  5\n",
      "c  3  6\n",
      "e  5  8\n",
      "f  6  9\n"
     ]
    }
   ],
   "source": [
    "import pandas as pd\n",
    "\n",
    "# Create two dataframes with index\n",
    "df1 = pd.DataFrame({'A': [1, 2, 3], 'B': [4, 5, 6]}, index=['a', 'b', 'c'])\n",
    "df2 = pd.DataFrame({'A': [2, 5, 6], 'B': [5, 8, 9]}, index=['b', 'e', 'f'])\n",
    "\n",
    "# Concatenate the two dataframes with index\n",
    "union = pd.concat([df1, df2])\n",
    "\n",
    "# Remove duplicate index values\n",
    "union = union[~union.index.duplicated(keep='first')]\n",
    "\n",
    "print(union)"
   ]
  },
  {
   "cell_type": "code",
   "execution_count": 33,
   "metadata": {},
   "outputs": [],
   "source": [
    "import pandas as pd\n",
    "\n",
    "# 샘플 데이터프레임 생성\n",
    "df1 = pd.DataFrame({'A': [1, 2, 3],\n",
    "                    'B': [4, 5, 6]}, index = ['a', 'b', 'c'])\n",
    "\n",
    "# 샘플 데이터프레임 생성\n",
    "df2 = pd.DataFrame({'A': [3, 2, 3],\n",
    "                    'B': [6, 5, 6]}, index = ['d', 'b', 'c'])\n"
   ]
  },
  {
   "cell_type": "code",
   "execution_count": 40,
   "metadata": {},
   "outputs": [
    {
     "data": {
      "text/html": [
       "<div>\n",
       "<style scoped>\n",
       "    .dataframe tbody tr th:only-of-type {\n",
       "        vertical-align: middle;\n",
       "    }\n",
       "\n",
       "    .dataframe tbody tr th {\n",
       "        vertical-align: top;\n",
       "    }\n",
       "\n",
       "    .dataframe thead th {\n",
       "        text-align: right;\n",
       "    }\n",
       "</style>\n",
       "<table border=\"1\" class=\"dataframe\">\n",
       "  <thead>\n",
       "    <tr style=\"text-align: right;\">\n",
       "      <th></th>\n",
       "      <th>A</th>\n",
       "      <th>B</th>\n",
       "    </tr>\n",
       "  </thead>\n",
       "  <tbody>\n",
       "    <tr>\n",
       "      <th>0</th>\n",
       "      <td>1</td>\n",
       "      <td>4</td>\n",
       "    </tr>\n",
       "    <tr>\n",
       "      <th>1</th>\n",
       "      <td>2</td>\n",
       "      <td>5</td>\n",
       "    </tr>\n",
       "    <tr>\n",
       "      <th>2</th>\n",
       "      <td>3</td>\n",
       "      <td>6</td>\n",
       "    </tr>\n",
       "    <tr>\n",
       "      <th>3</th>\n",
       "      <td>3</td>\n",
       "      <td>6</td>\n",
       "    </tr>\n",
       "    <tr>\n",
       "      <th>4</th>\n",
       "      <td>2</td>\n",
       "      <td>5</td>\n",
       "    </tr>\n",
       "    <tr>\n",
       "      <th>5</th>\n",
       "      <td>3</td>\n",
       "      <td>6</td>\n",
       "    </tr>\n",
       "  </tbody>\n",
       "</table>\n",
       "</div>"
      ],
      "text/plain": [
       "   A  B\n",
       "0  1  4\n",
       "1  2  5\n",
       "2  3  6\n",
       "3  3  6\n",
       "4  2  5\n",
       "5  3  6"
      ]
     },
     "execution_count": 40,
     "metadata": {},
     "output_type": "execute_result"
    }
   ],
   "source": [
    "# 두 개의 데이터프레임을 행 방향으로 합치기, 같은 행은 하나로\n",
    "df3 = pd.concat([df1, df2], axis=0, ignore_index=True)\n",
    "df3"
   ]
  },
  {
   "cell_type": "code",
   "execution_count": 41,
   "metadata": {},
   "outputs": [
    {
     "name": "stdout",
     "output_type": "stream",
     "text": [
      "   A  B\n",
      "a  1  4\n",
      "b  2  5\n",
      "c  3  6\n",
      "d  3  6\n"
     ]
    }
   ],
   "source": [
    "import pandas as pd\n",
    "\n",
    "# 샘플 데이터프레임 생성\n",
    "df1 = pd.DataFrame({'A': [1, 2, 3], 'B': [4, 5, 6]}, index = ['a', 'b', 'c'])\n",
    "# 샘플 데이터프레임 생성\n",
    "df2 = pd.DataFrame({'A': [3, 2, 3], 'B': [6, 5, 6]}, index = ['d', 'b', 'c'])\n",
    "\n",
    "# 두 데이터프레임을 세로 방향으로 합치고 중복되는 행을 제거하여 하나의 데이터프레임으로 만듦\n",
    "union = pd.concat([df1, df2], join='outer')\n",
    "union = union[~union.index.duplicated(keep='first')]\n",
    "\n",
    "print(union)"
   ]
  },
  {
   "cell_type": "code",
   "execution_count": 42,
   "metadata": {},
   "outputs": [
    {
     "name": "stdout",
     "output_type": "stream",
     "text": [
      "   A   B  C\n",
      "2  3   8  c\n",
      "3  4   9  d\n",
      "4  5  10  e\n"
     ]
    }
   ],
   "source": [
    "import pandas as pd\n",
    "\n",
    "# 샘플 데이터프레임 생성\n",
    "df = pd.DataFrame({'A': [1, 2, 3, 4, 5],\n",
    "                   'B': [6, 7, 8, 9, 10],\n",
    "                   'C': ['a', 'b', 'c', 'd', 'e']})\n",
    "\n",
    "# 'A' 열이 3 미만이 아닌 행만 선택\n",
    "df_filtered = df[~(df['A'] < 3)]\n",
    "\n",
    "print(df_filtered)"
   ]
  },
  {
   "attachments": {},
   "cell_type": "markdown",
   "metadata": {},
   "source": [
    "---"
   ]
  },
  {
   "cell_type": "code",
   "execution_count": 105,
   "metadata": {},
   "outputs": [],
   "source": [
    "# Ripper\n",
    "rule1 = 'size_uniformity >= 4 and size_uniformity >= 5'\n",
    "rule2 = 'bare_nucleoli >= 3 and clump_thickness >= 5'\n",
    "rule3 = 'shape_uniformity >= 4 and marginal_adhesion >= 4'\n",
    "rule4 = 'bland_chromatin >= 4 and bare_nucleoli >= 8'"
   ]
  },
  {
   "cell_type": "code",
   "execution_count": 85,
   "metadata": {},
   "outputs": [],
   "source": [
    "data = pd.concat([X_train, y_train], axis=1)"
   ]
  },
  {
   "cell_type": "code",
   "execution_count": 130,
   "metadata": {},
   "outputs": [],
   "source": [
    "# CN2\n",
    "rule0 = 'normal_nucleoli>=9.0'\n",
    "rule1 = 'size_uniformity>=5.0 and clump_thickness>=7.0'\n",
    "rule2 = 'bare_nucleoli>=6.0 and shape_uniformity>=5.0'\n",
    "rule3 = 'normal_nucleoli<=3.0 and shape_uniformity<=2.0 and marginal_adhesion>=2.0'\n",
    "rule4 = 'bare_nucleoli<=2.0 and epithelial_size<=4.0 and epithelial_size<=3.0'\n",
    "rule5 = 'clump_thickness>=5.0 and bare_nucleoli>=2.0 and normal_nucleoli<=7.0'\n",
    "rule6 = 'size_uniformity<=5.0 and mitoses<=3.0 and bare_nucleoli<=7.0'"
   ]
  },
  {
   "cell_type": "code",
   "execution_count": 92,
   "metadata": {},
   "outputs": [],
   "source": [
    "def rule_quality(df, data):\n",
    "    \n",
    "    class1 = len(df[df['class'] == 0])\n",
    "    class0 = len(df[df['class'] == 1])\n",
    "    \n",
    "    # class1 또는 class 0 중 max\n",
    "    m = max(class1, class0)\n",
    "    \n",
    "    print('coverage :', round(len(df) / len(data), 3), f'({len(df)})')\n",
    "    print('homo : ', m / (class1+class0) )\n",
    "    print('class 0 :', len(df[df['class'] == 0]) / len(df), f'({len(df[df[\"class\"] == 0])})')\n",
    "    print('class 1 :', len(df[df['class'] == 1]) / len(df), f'({len(df[df[\"class\"] == 1])})')"
   ]
  },
  {
   "cell_type": "code",
   "execution_count": 122,
   "metadata": {},
   "outputs": [
    {
     "data": {
      "text/plain": [
       "0    303\n",
       "1     41\n",
       "Name: class, dtype: int64"
      ]
     },
     "execution_count": 122,
     "metadata": {},
     "output_type": "execute_result"
    }
   ],
   "source": [
    "rule_bar = data.query(f'~({rule0})').query(f'~({rule1})').query(f'~({rule2})').query(f'~({rule3})')\n",
    "rule_bar['class'].value_counts()"
   ]
  },
  {
   "attachments": {},
   "cell_type": "markdown",
   "metadata": {},
   "source": [
    "---"
   ]
  },
  {
   "cell_type": "code",
   "execution_count": 131,
   "metadata": {},
   "outputs": [
    {
     "name": "stdout",
     "output_type": "stream",
     "text": [
      "coverage : 0.107 (58)\n",
      "homo :  1.0\n",
      "class 0 : 0.0 (0)\n",
      "class 1 : 1.0 (58)\n"
     ]
    }
   ],
   "source": [
    "rule_quality(data.query(rule0), data)"
   ]
  },
  {
   "cell_type": "code",
   "execution_count": 140,
   "metadata": {},
   "outputs": [
    {
     "name": "stdout",
     "output_type": "stream",
     "text": [
      "coverage : 0.11 (53)\n",
      "homo :  1.0\n",
      "class 0 : 0.0 (0)\n",
      "class 1 : 1.0 (53)\n"
     ]
    }
   ],
   "source": [
    "rule_quality(data.query(f'~({rule0})').query(rule1), data.query(f'~({rule0})'))"
   ]
  },
  {
   "cell_type": "code",
   "execution_count": 141,
   "metadata": {},
   "outputs": [
    {
     "name": "stdout",
     "output_type": "stream",
     "text": [
      "coverage : 0.086 (37)\n",
      "homo :  1.0\n",
      "class 0 : 0.0 (0)\n",
      "class 1 : 1.0 (37)\n"
     ]
    }
   ],
   "source": [
    "rule_quality(data.query(f'~({rule0})').query(f'~({rule1})').query(rule2), data.query(f'~({rule0})').query(f'~({rule1})'))"
   ]
  },
  {
   "cell_type": "code",
   "execution_count": 142,
   "metadata": {},
   "outputs": [
    {
     "name": "stdout",
     "output_type": "stream",
     "text": [
      "coverage : 0.122 (48)\n",
      "homo :  1.0\n",
      "class 0 : 1.0 (48)\n",
      "class 1 : 0.0 (0)\n"
     ]
    }
   ],
   "source": [
    "rule_quality(data.query(f'~({rule0})').query(f'~({rule1})').query(f'~({rule2})').query(rule3), \n",
    "             data.query(f'~({rule0})').query(f'~({rule1})').query(f'~({rule2})'))"
   ]
  },
  {
   "cell_type": "code",
   "execution_count": 135,
   "metadata": {},
   "outputs": [
    {
     "name": "stdout",
     "output_type": "stream",
     "text": [
      "coverage : 0.797 (274)\n",
      "homo :  0.9963503649635036\n",
      "class 0 : 0.9963503649635036 (273)\n",
      "class 1 : 0.0036496350364963502 (1)\n"
     ]
    }
   ],
   "source": [
    "rule_quality(data.query(f'~({rule0})').query(f'~({rule1})').query(f'~({rule2})').query(f'~({rule3})').query(rule4), \n",
    "             data.query(f'~({rule0})').query(f'~({rule1})').query(f'~({rule2})').query(f'~({rule3})'))"
   ]
  },
  {
   "cell_type": "code",
   "execution_count": 136,
   "metadata": {},
   "outputs": [
    {
     "name": "stdout",
     "output_type": "stream",
     "text": [
      "coverage : 0.429 (30)\n",
      "homo :  0.8666666666666667\n",
      "class 0 : 0.13333333333333333 (4)\n",
      "class 1 : 0.8666666666666667 (26)\n"
     ]
    }
   ],
   "source": [
    "rule_quality(data.query(f'~({rule0})').query(f'~({rule1})').query(f'~({rule2})').query(f'~({rule3})').query(f'~({rule4})').query(rule5), \n",
    "             data.query(f'~({rule0})').query(f'~({rule1})').query(f'~({rule2})').query(f'~({rule3})').query(f'~({rule4})'))"
   ]
  },
  {
   "cell_type": "code",
   "execution_count": 137,
   "metadata": {},
   "outputs": [
    {
     "name": "stdout",
     "output_type": "stream",
     "text": [
      "coverage : 0.725 (29)\n",
      "homo :  0.8620689655172413\n",
      "class 0 : 0.8620689655172413 (25)\n",
      "class 1 : 0.13793103448275862 (4)\n"
     ]
    }
   ],
   "source": [
    "rule_quality(data.query(f'~({rule0})').query(f'~({rule1})').query(f'~({rule2})').query(f'~({rule3})').query(f'~({rule4})').query(f'~({rule5})').query(rule6), \n",
    "             data.query(f'~({rule0})').query(f'~({rule1})').query(f'~({rule2})').query(f'~({rule3})').query(f'~({rule4})').query(f'~({rule5})'))"
   ]
  },
  {
   "cell_type": "code",
   "execution_count": 138,
   "metadata": {},
   "outputs": [
    {
     "data": {
      "text/plain": [
       "1    10\n",
       "0     1\n",
       "Name: class, dtype: int64"
      ]
     },
     "execution_count": 138,
     "metadata": {},
     "output_type": "execute_result"
    }
   ],
   "source": [
    "rule_bar = data.query(f'~({rule0})').query(f'~({rule1})').query(f'~({rule2})').query(f'~({rule3})').query(f'~({rule4})').query(f'~({rule5})').query(f'~({rule6})')\n",
    "rule_bar['class'].value_counts()"
   ]
  },
  {
   "cell_type": "code",
   "execution_count": null,
   "metadata": {},
   "outputs": [],
   "source": []
  }
 ],
 "metadata": {
  "kernelspec": {
   "display_name": "base",
   "language": "python",
   "name": "python3"
  },
  "language_info": {
   "codemirror_mode": {
    "name": "ipython",
    "version": 3
   },
   "file_extension": ".py",
   "mimetype": "text/x-python",
   "name": "python",
   "nbconvert_exporter": "python",
   "pygments_lexer": "ipython3",
   "version": "3.9.12"
  },
  "orig_nbformat": 4
 },
 "nbformat": 4,
 "nbformat_minor": 2
}

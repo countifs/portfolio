{
 "cells": [
  {
   "cell_type": "code",
   "execution_count": 2,
   "metadata": {},
   "outputs": [],
   "source": [
    "import pandas as pd\n",
    "from sklearn.datasets import load_breast_cancer\n",
    "from sklearn.metrics import accuracy_score, precision_score, recall_score, f1_score\n",
    "from sklearn.model_selection import train_test_split"
   ]
  },
  {
   "cell_type": "code",
   "execution_count": 3,
   "metadata": {},
   "outputs": [],
   "source": [
    "# Get the Data \n",
    "raw_df = pd.read_csv('https://raw.githubusercontent.com/countifs/rawdata/main/UCI%20-%20Breast%20Cancer%20Wisconsin%20(Original)/breastCancer.csv')\n",
    "\n",
    "def preprocess(raw_df):\n",
    "    df = raw_df.copy()\n",
    "    df = df[df['bare_nucleoli'] != '?'] # 16개의 '?' 행 제거\n",
    "    df['bare_nucleoli'] = df['bare_nucleoli'].astype(int) # 문자열을 정수형으로 변환\n",
    "    df.drop_duplicates(inplace=True) # 중복된 행 제거\n",
    "    df.replace({'class': {2: 0, 4: 1}}, inplace=True)  # 2: Benign, 4: Malignant\n",
    "    df.reset_index(drop=True, inplace=True) # index 재설정\n",
    "    df.drop(columns=['id'], axis=1, inplace=True) # id 열 제거\n",
    "    return df\n",
    "\n",
    "data = preprocess(raw_df).copy()\n"
   ]
  },
  {
   "cell_type": "code",
   "execution_count": 4,
   "metadata": {},
   "outputs": [],
   "source": [
    "rule_list = ['(size_uniformity >= 4) and (size_uniformity >= 5) => class=1 (134.0/1.0)',\n",
    "             '(bare_nucleoli >= 3) and (clump_thickness >= 5) => class=1 (51.0/6.0)',\n",
    "             '(shape_uniformity >= 4) and (marginal_adhesion >= 4) => class=1 (6.0/1.0)',\n",
    "             '(bland_chromatin >= 4) and (bare_nucleoli >= 8) => class=1 (4.0/0.0)']\n"
   ]
  },
  {
   "cell_type": "code",
   "execution_count": 5,
   "metadata": {},
   "outputs": [],
   "source": [
    "colnm = data.columns\n",
    "\n",
    "X = data.drop(columns='class')\n",
    "y = data['class']\n",
    "\n",
    "feature_names = X.columns\n",
    "\n",
    "X_train, X_test, y_train, y_test = train_test_split(X, y, test_size=0.2, random_state=25, stratify=y)"
   ]
  },
  {
   "cell_type": "code",
   "execution_count": 6,
   "metadata": {},
   "outputs": [
    {
     "data": {
      "text/plain": [
       "['(size_uniformity >= 4) and (size_uniformity >= 5) => class=1 (134.0/1.0)',\n",
       " '(bare_nucleoli >= 3) and (clump_thickness >= 5) => class=1 (51.0/6.0)',\n",
       " '(shape_uniformity >= 4) and (marginal_adhesion >= 4) => class=1 (6.0/1.0)',\n",
       " '(bland_chromatin >= 4) and (bare_nucleoli >= 8) => class=1 (4.0/0.0)']"
      ]
     },
     "execution_count": 6,
     "metadata": {},
     "output_type": "execute_result"
    }
   ],
   "source": [
    "rule_list "
   ]
  },
  {
   "cell_type": "code",
   "execution_count": 7,
   "metadata": {},
   "outputs": [],
   "source": [
    "# => 기준으로 왼쪽 추출\n",
    "rule_list = [rule.split('=>')[0] for rule in rule_list]\n",
    "\n",
    "# 괄호 삭제\n",
    "rule_list = [rule.replace('(', '').replace(')', '') for rule in rule_list]\n"
   ]
  },
  {
   "cell_type": "code",
   "execution_count": 8,
   "metadata": {},
   "outputs": [],
   "source": [
    "import pandas as pd\n",
    "\n",
    "train = pd.concat([X_train, y_train], axis=1)\n",
    "\n",
    "rule_class = []\n",
    "cover_count = []\n",
    "coverage = []\n",
    "class_0 = []\n",
    "class_1 = []\n",
    "homogeneity = []\n",
    "    \n",
    "for i in range(len(rule_list)):\n",
    "    cover_count.append(len(train.query(rule_list[i]) ))\n",
    "    coverage.append(round(len(train.query(rule_list[i])) / len(train), 3 ) )\n",
    "    class_0.append( sum (train.query(rule_list[i])['class'] == 0) )\n",
    "    class_1.append( sum (train.query(rule_list[i])['class'] == 1) )    \n",
    "    homogeneity.append(round( max(class_0[i], class_1[i]) / cover_count[i], 3 ) )\n",
    "    rule_class.append(0 if class_0[i] > class_1[i] else 1)\n",
    "\n",
    "rule_df = pd.DataFrame({'rule':rule_list, 'class':rule_class, 'cover_count':cover_count, 'coverage':coverage, 'homogeneity': homogeneity,\n",
    "                    'class_0':class_0, 'class_1':class_1})  "
   ]
  },
  {
   "cell_type": "code",
   "execution_count": 9,
   "metadata": {},
   "outputs": [
    {
     "data": {
      "text/html": [
       "<div>\n",
       "<style scoped>\n",
       "    .dataframe tbody tr th:only-of-type {\n",
       "        vertical-align: middle;\n",
       "    }\n",
       "\n",
       "    .dataframe tbody tr th {\n",
       "        vertical-align: top;\n",
       "    }\n",
       "\n",
       "    .dataframe thead th {\n",
       "        text-align: right;\n",
       "    }\n",
       "</style>\n",
       "<table border=\"1\" class=\"dataframe\">\n",
       "  <thead>\n",
       "    <tr style=\"text-align: right;\">\n",
       "      <th></th>\n",
       "      <th>rule</th>\n",
       "      <th>class</th>\n",
       "      <th>cover_count</th>\n",
       "      <th>coverage</th>\n",
       "      <th>homogeneity</th>\n",
       "      <th>class_0</th>\n",
       "      <th>class_1</th>\n",
       "      <th>cond_count</th>\n",
       "      <th>cond_sign</th>\n",
       "    </tr>\n",
       "  </thead>\n",
       "  <tbody>\n",
       "    <tr>\n",
       "      <th>0</th>\n",
       "      <td>size_uniformity &gt;= 4 and size_uniformity &gt;= 5</td>\n",
       "      <td>1</td>\n",
       "      <td>134</td>\n",
       "      <td>0.248</td>\n",
       "      <td>0.993</td>\n",
       "      <td>1</td>\n",
       "      <td>133</td>\n",
       "      <td>2</td>\n",
       "      <td>0</td>\n",
       "    </tr>\n",
       "    <tr>\n",
       "      <th>1</th>\n",
       "      <td>bare_nucleoli &gt;= 3 and clump_thickness &gt;= 5</td>\n",
       "      <td>1</td>\n",
       "      <td>156</td>\n",
       "      <td>0.289</td>\n",
       "      <td>0.955</td>\n",
       "      <td>7</td>\n",
       "      <td>149</td>\n",
       "      <td>2</td>\n",
       "      <td>0</td>\n",
       "    </tr>\n",
       "    <tr>\n",
       "      <th>2</th>\n",
       "      <td>shape_uniformity &gt;= 4 and marginal_adhesion &gt;= 4</td>\n",
       "      <td>1</td>\n",
       "      <td>120</td>\n",
       "      <td>0.222</td>\n",
       "      <td>0.975</td>\n",
       "      <td>3</td>\n",
       "      <td>117</td>\n",
       "      <td>2</td>\n",
       "      <td>0</td>\n",
       "    </tr>\n",
       "    <tr>\n",
       "      <th>3</th>\n",
       "      <td>bland_chromatin &gt;= 4 and bare_nucleoli &gt;= 8</td>\n",
       "      <td>1</td>\n",
       "      <td>108</td>\n",
       "      <td>0.200</td>\n",
       "      <td>1.000</td>\n",
       "      <td>0</td>\n",
       "      <td>108</td>\n",
       "      <td>2</td>\n",
       "      <td>0</td>\n",
       "    </tr>\n",
       "  </tbody>\n",
       "</table>\n",
       "</div>"
      ],
      "text/plain": [
       "                                                rule  class  cover_count  \\\n",
       "0     size_uniformity >= 4 and size_uniformity >= 5       1          134   \n",
       "1       bare_nucleoli >= 3 and clump_thickness >= 5       1          156   \n",
       "2  shape_uniformity >= 4 and marginal_adhesion >= 4       1          120   \n",
       "3       bland_chromatin >= 4 and bare_nucleoli >= 8       1          108   \n",
       "\n",
       "   coverage  homogeneity  class_0  class_1  cond_count  cond_sign  \n",
       "0     0.248        0.993        1      133           2          0  \n",
       "1     0.289        0.955        7      149           2          0  \n",
       "2     0.222        0.975        3      117           2          0  \n",
       "3     0.200        1.000        0      108           2          0  "
      ]
     },
     "execution_count": 9,
     "metadata": {},
     "output_type": "execute_result"
    }
   ],
   "source": [
    "# condition컬럼에서 and 개수 찾기\n",
    "rule_df['cond_count'] = rule_df['rule'].str.count(' and ') + 1 \n",
    "\n",
    "#condition에서 부호가 모두 같으면 1, 다르면 0\n",
    "rule_df['cond_sign'] = rule_df['rule'].str.contains('>=') & rule_df['rule'].str.contains('<')\n",
    "rule_df['cond_sign'] = rule_df['cond_sign'].astype(int)\n",
    "\n",
    "pd.set_option('display.max_colwidth', None)\n",
    "rule_df"
   ]
  },
  {
   "cell_type": "code",
   "execution_count": 53,
   "metadata": {},
   "outputs": [],
   "source": [
    "rule1 = train.query('size_uniformity >= 4 and size_uniformity >= 5')"
   ]
  },
  {
   "cell_type": "code",
   "execution_count": 54,
   "metadata": {},
   "outputs": [],
   "source": [
    "rule2 = train.query('bare_nucleoli >= 3 and clump_thickness >= 5')"
   ]
  },
  {
   "cell_type": "code",
   "execution_count": 55,
   "metadata": {},
   "outputs": [
    {
     "data": {
      "text/plain": [
       "Int64Index([208, 285, 111, 120, 371, 485, 337, 560, 470, 340,\n",
       "            ...\n",
       "            249, 502,  47, 462, 566,  54, 167, 211,  53, 178],\n",
       "           dtype='int64', length=105)"
      ]
     },
     "execution_count": 55,
     "metadata": {},
     "output_type": "execute_result"
    }
   ],
   "source": [
    "common_index = rule1.index.intersection(rule2.index)\n",
    "common_index"
   ]
  },
  {
   "cell_type": "code",
   "execution_count": 28,
   "metadata": {},
   "outputs": [],
   "source": [
    "# 아래 조건이 아닌 데이터 추출\n",
    "train1 = train.query('not (size_uniformity >= 4 and size_uniformity >= 5)')\n",
    "train2 = train1.query('bare_nucleoli >= 3 and clump_thickness >= 5')\n"
   ]
  },
  {
   "cell_type": "code",
   "execution_count": 36,
   "metadata": {},
   "outputs": [
    {
     "data": {
      "text/plain": [
       "1    45\n",
       "0     6\n",
       "Name: class, dtype: int64"
      ]
     },
     "execution_count": 36,
     "metadata": {},
     "output_type": "execute_result"
    }
   ],
   "source": [
    "train2 = train1.query('bare_nucleoli >= 3 and clump_thickness >= 5')\n",
    "train2['class'].value_counts()"
   ]
  },
  {
   "cell_type": "code",
   "execution_count": 40,
   "metadata": {},
   "outputs": [],
   "source": [
    "train3 = train1.query('not(bare_nucleoli >= 3 and clump_thickness >= 5)')"
   ]
  },
  {
   "cell_type": "code",
   "execution_count": null,
   "metadata": {},
   "outputs": [],
   "source": [
    "rain3"
   ]
  },
  {
   "cell_type": "code",
   "execution_count": 43,
   "metadata": {},
   "outputs": [
    {
     "data": {
      "text/html": [
       "<div>\n",
       "<style scoped>\n",
       "    .dataframe tbody tr th:only-of-type {\n",
       "        vertical-align: middle;\n",
       "    }\n",
       "\n",
       "    .dataframe tbody tr th {\n",
       "        vertical-align: top;\n",
       "    }\n",
       "\n",
       "    .dataframe thead th {\n",
       "        text-align: right;\n",
       "    }\n",
       "</style>\n",
       "<table border=\"1\" class=\"dataframe\">\n",
       "  <thead>\n",
       "    <tr style=\"text-align: right;\">\n",
       "      <th></th>\n",
       "      <th>clump_thickness</th>\n",
       "      <th>size_uniformity</th>\n",
       "      <th>shape_uniformity</th>\n",
       "      <th>marginal_adhesion</th>\n",
       "      <th>epithelial_size</th>\n",
       "      <th>bare_nucleoli</th>\n",
       "      <th>bland_chromatin</th>\n",
       "      <th>normal_nucleoli</th>\n",
       "      <th>mitoses</th>\n",
       "      <th>class</th>\n",
       "    </tr>\n",
       "  </thead>\n",
       "  <tbody>\n",
       "    <tr>\n",
       "      <th>84</th>\n",
       "      <td>3</td>\n",
       "      <td>3</td>\n",
       "      <td>6</td>\n",
       "      <td>4</td>\n",
       "      <td>5</td>\n",
       "      <td>8</td>\n",
       "      <td>4</td>\n",
       "      <td>4</td>\n",
       "      <td>1</td>\n",
       "      <td>1</td>\n",
       "    </tr>\n",
       "    <tr>\n",
       "      <th>301</th>\n",
       "      <td>4</td>\n",
       "      <td>4</td>\n",
       "      <td>4</td>\n",
       "      <td>4</td>\n",
       "      <td>6</td>\n",
       "      <td>5</td>\n",
       "      <td>7</td>\n",
       "      <td>3</td>\n",
       "      <td>1</td>\n",
       "      <td>0</td>\n",
       "    </tr>\n",
       "    <tr>\n",
       "      <th>581</th>\n",
       "      <td>5</td>\n",
       "      <td>4</td>\n",
       "      <td>6</td>\n",
       "      <td>8</td>\n",
       "      <td>4</td>\n",
       "      <td>1</td>\n",
       "      <td>8</td>\n",
       "      <td>10</td>\n",
       "      <td>1</td>\n",
       "      <td>1</td>\n",
       "    </tr>\n",
       "    <tr>\n",
       "      <th>99</th>\n",
       "      <td>2</td>\n",
       "      <td>3</td>\n",
       "      <td>4</td>\n",
       "      <td>4</td>\n",
       "      <td>2</td>\n",
       "      <td>5</td>\n",
       "      <td>2</td>\n",
       "      <td>5</td>\n",
       "      <td>1</td>\n",
       "      <td>1</td>\n",
       "    </tr>\n",
       "    <tr>\n",
       "      <th>328</th>\n",
       "      <td>3</td>\n",
       "      <td>4</td>\n",
       "      <td>4</td>\n",
       "      <td>10</td>\n",
       "      <td>5</td>\n",
       "      <td>1</td>\n",
       "      <td>3</td>\n",
       "      <td>3</td>\n",
       "      <td>1</td>\n",
       "      <td>1</td>\n",
       "    </tr>\n",
       "    <tr>\n",
       "      <th>15</th>\n",
       "      <td>7</td>\n",
       "      <td>4</td>\n",
       "      <td>6</td>\n",
       "      <td>4</td>\n",
       "      <td>6</td>\n",
       "      <td>1</td>\n",
       "      <td>4</td>\n",
       "      <td>3</td>\n",
       "      <td>1</td>\n",
       "      <td>1</td>\n",
       "    </tr>\n",
       "  </tbody>\n",
       "</table>\n",
       "</div>"
      ],
      "text/plain": [
       "     clump_thickness  size_uniformity  shape_uniformity  marginal_adhesion  \\\n",
       "84                 3                3                 6                  4   \n",
       "301                4                4                 4                  4   \n",
       "581                5                4                 6                  8   \n",
       "99                 2                3                 4                  4   \n",
       "328                3                4                 4                 10   \n",
       "15                 7                4                 6                  4   \n",
       "\n",
       "     epithelial_size  bare_nucleoli  bland_chromatin  normal_nucleoli  \\\n",
       "84                 5              8                4                4   \n",
       "301                6              5                7                3   \n",
       "581                4              1                8               10   \n",
       "99                 2              5                2                5   \n",
       "328                5              1                3                3   \n",
       "15                 6              1                4                3   \n",
       "\n",
       "     mitoses  class  \n",
       "84         1      1  \n",
       "301        1      0  \n",
       "581        1      1  \n",
       "99         1      1  \n",
       "328        1      1  \n",
       "15         1      1  "
      ]
     },
     "execution_count": 43,
     "metadata": {},
     "output_type": "execute_result"
    }
   ],
   "source": [
    "train3.query('shape_uniformity >= 4 and marginal_adhesion >= 4')"
   ]
  },
  {
   "cell_type": "code",
   "execution_count": 11,
   "metadata": {},
   "outputs": [
    {
     "data": {
      "text/plain": [
       "(51, 10)"
      ]
     },
     "execution_count": 11,
     "metadata": {},
     "output_type": "execute_result"
    }
   ],
   "source": [
    "train.query('not ((size_uniformity >= 3 and size_uniformity >= 5 and bland_chromatin >= 5)) and (bare_nucleoli >= 3 and clump_thickness >= 7)' ).shape"
   ]
  },
  {
   "cell_type": "code",
   "execution_count": null,
   "metadata": {},
   "outputs": [],
   "source": [
    "rule_list2 = [ 'size_uniformity >= 4 and size_uniformity >= 5',\n",
    "              'not ((size_uniformity >= 4 and size_uniformity >= 5)) and (bare_nucleoli >= 3 and clump_thickness >= 5)',\n",
    "              \n",
    "\n",
    "              \n",
    "              \n",
    "]"
   ]
  },
  {
   "cell_type": "code",
   "execution_count": 12,
   "metadata": {},
   "outputs": [
    {
     "data": {
      "text/plain": [
       "(51, 10)"
      ]
     },
     "execution_count": 12,
     "metadata": {},
     "output_type": "execute_result"
    }
   ],
   "source": [
    "train1.query('bare_nucleoli >= 3 and clump_thickness >= 7').shape"
   ]
  },
  {
   "cell_type": "code",
   "execution_count": 13,
   "metadata": {},
   "outputs": [],
   "source": [
    "pd.set_option('display.max_colwidth', None)"
   ]
  },
  {
   "cell_type": "code",
   "execution_count": 14,
   "metadata": {},
   "outputs": [
    {
     "data": {
      "text/html": [
       "<div>\n",
       "<style scoped>\n",
       "    .dataframe tbody tr th:only-of-type {\n",
       "        vertical-align: middle;\n",
       "    }\n",
       "\n",
       "    .dataframe tbody tr th {\n",
       "        vertical-align: top;\n",
       "    }\n",
       "\n",
       "    .dataframe thead th {\n",
       "        text-align: right;\n",
       "    }\n",
       "</style>\n",
       "<table border=\"1\" class=\"dataframe\">\n",
       "  <thead>\n",
       "    <tr style=\"text-align: right;\">\n",
       "      <th></th>\n",
       "      <th>rule</th>\n",
       "      <th>class</th>\n",
       "      <th>cover_count</th>\n",
       "      <th>coverage</th>\n",
       "      <th>homogeneity</th>\n",
       "      <th>class_0</th>\n",
       "      <th>class_1</th>\n",
       "      <th>cond_count</th>\n",
       "      <th>cond_sign</th>\n",
       "    </tr>\n",
       "  </thead>\n",
       "  <tbody>\n",
       "    <tr>\n",
       "      <th>0</th>\n",
       "      <td>size_uniformity &gt;= 4 and size_uniformity &gt;= 5</td>\n",
       "      <td>1</td>\n",
       "      <td>134</td>\n",
       "      <td>0.248</td>\n",
       "      <td>0.993</td>\n",
       "      <td>1</td>\n",
       "      <td>133</td>\n",
       "      <td>2</td>\n",
       "      <td>0</td>\n",
       "    </tr>\n",
       "    <tr>\n",
       "      <th>1</th>\n",
       "      <td>bare_nucleoli &gt;= 3 and clump_thickness &gt;= 5</td>\n",
       "      <td>1</td>\n",
       "      <td>156</td>\n",
       "      <td>0.289</td>\n",
       "      <td>0.955</td>\n",
       "      <td>7</td>\n",
       "      <td>149</td>\n",
       "      <td>2</td>\n",
       "      <td>0</td>\n",
       "    </tr>\n",
       "    <tr>\n",
       "      <th>2</th>\n",
       "      <td>shape_uniformity &gt;= 4 and marginal_adhesion &gt;= 4</td>\n",
       "      <td>1</td>\n",
       "      <td>120</td>\n",
       "      <td>0.222</td>\n",
       "      <td>0.975</td>\n",
       "      <td>3</td>\n",
       "      <td>117</td>\n",
       "      <td>2</td>\n",
       "      <td>0</td>\n",
       "    </tr>\n",
       "    <tr>\n",
       "      <th>3</th>\n",
       "      <td>bland_chromatin &gt;= 4 and bare_nucleoli &gt;= 8</td>\n",
       "      <td>1</td>\n",
       "      <td>108</td>\n",
       "      <td>0.200</td>\n",
       "      <td>1.000</td>\n",
       "      <td>0</td>\n",
       "      <td>108</td>\n",
       "      <td>2</td>\n",
       "      <td>0</td>\n",
       "    </tr>\n",
       "  </tbody>\n",
       "</table>\n",
       "</div>"
      ],
      "text/plain": [
       "                                                rule  class  cover_count  \\\n",
       "0     size_uniformity >= 4 and size_uniformity >= 5       1          134   \n",
       "1       bare_nucleoli >= 3 and clump_thickness >= 5       1          156   \n",
       "2  shape_uniformity >= 4 and marginal_adhesion >= 4       1          120   \n",
       "3       bland_chromatin >= 4 and bare_nucleoli >= 8       1          108   \n",
       "\n",
       "   coverage  homogeneity  class_0  class_1  cond_count  cond_sign  \n",
       "0     0.248        0.993        1      133           2          0  \n",
       "1     0.289        0.955        7      149           2          0  \n",
       "2     0.222        0.975        3      117           2          0  \n",
       "3     0.200        1.000        0      108           2          0  "
      ]
     },
     "execution_count": 14,
     "metadata": {},
     "output_type": "execute_result"
    }
   ],
   "source": [
    "rule_df"
   ]
  }
 ],
 "metadata": {
  "kernelspec": {
   "display_name": "base",
   "language": "python",
   "name": "python3"
  },
  "language_info": {
   "codemirror_mode": {
    "name": "ipython",
    "version": 3
   },
   "file_extension": ".py",
   "mimetype": "text/x-python",
   "name": "python",
   "nbconvert_exporter": "python",
   "pygments_lexer": "ipython3",
   "version": "3.9.12"
  },
  "orig_nbformat": 4
 },
 "nbformat": 4,
 "nbformat_minor": 2
}

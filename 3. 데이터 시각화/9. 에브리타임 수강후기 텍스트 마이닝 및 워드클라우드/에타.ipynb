{
 "cells": [
  {
   "attachments": {},
   "cell_type": "markdown",
   "metadata": {},
   "source": [
    "1. 에타 접속 (https://everytime.kr/)  생략가능, 로그인으로 바로 이동\n",
    "2. 에타 로그인 (https://everytime.kr/login)\n",
    "3. 에타 강의실 페이지로 이동 (https://everytime.kr/lecture)\n",
    "4. 에타 강의 평가 이동 (https://everytime.kr/lecture/view/930295)\n",
    "5. 에타 강의 평가 통계처리 입문 (https://everytime.kr/lecture/view/930295?tab=article)"
   ]
  },
  {
   "cell_type": "code",
   "execution_count": 1,
   "metadata": {},
   "outputs": [],
   "source": [
    "import requests\n",
    "from bs4 import BeautifulSoup\n",
    "\n",
    "import selenium\n",
    "from selenium import webdriver\n",
    "from selenium.webdriver.chrome.service import Service\n",
    "from selenium.webdriver.chrome.options import Options\n",
    "from selenium.webdriver.common.by import By \n",
    "\n",
    "# 크롬 드라이버 자동 업데이트\n",
    "from webdriver_manager.chrome import ChromeDriverManager\n",
    "\n",
    "import time\n",
    "import random \n",
    "import pyautogui\n",
    "import pyperclip\n",
    "\n",
    "import pandas as pd"
   ]
  },
  {
   "cell_type": "code",
   "execution_count": 2,
   "metadata": {},
   "outputs": [],
   "source": [
    "# txt파일 불러오기\n",
    "with open('에타.txt', 'r', encoding='utf-8') as f:\n",
    "    text = f.read()\n",
    "\n",
    "soup = BeautifulSoup(text, 'html.parser')\n",
    "articles = soup.select('div.article')\n",
    "texts = soup.select('div.text')\n",
    "rates = soup.select('span.on')\n",
    "infos = soup.select('span.semester')\n",
    "# articles = soup.find_all('div', class_='article')"
   ]
  },
  {
   "cell_type": "code",
   "execution_count": 3,
   "metadata": {},
   "outputs": [],
   "source": [
    "info_list = []\n",
    "rate_list = []\n",
    "text_list = []\n",
    "\n",
    "i = 1\n",
    " \n",
    "for info, rate, text in zip(infos, rates, texts):\n",
    "    info_list.append(info.text.strip() )\n",
    "    rate_list.append(rate['style'] )\n",
    "    text_list.append(text.text.strip() )\n",
    "    i += 1 \n",
    "    \n",
    "rate_list = [rate.split(':')[1].strip() for rate in rate_list]\n",
    "rate_list = [rate.split('%')[0] for rate in rate_list]       "
   ]
  },
  {
   "cell_type": "code",
   "execution_count": 15,
   "metadata": {},
   "outputs": [
    {
     "data": {
      "text/html": [
       "<div>\n",
       "<style scoped>\n",
       "    .dataframe tbody tr th:only-of-type {\n",
       "        vertical-align: middle;\n",
       "    }\n",
       "\n",
       "    .dataframe tbody tr th {\n",
       "        vertical-align: top;\n",
       "    }\n",
       "\n",
       "    .dataframe thead th {\n",
       "        text-align: right;\n",
       "    }\n",
       "</style>\n",
       "<table border=\"1\" class=\"dataframe\">\n",
       "  <thead>\n",
       "    <tr style=\"text-align: right;\">\n",
       "      <th></th>\n",
       "      <th>info</th>\n",
       "      <th>rate</th>\n",
       "      <th>text</th>\n",
       "    </tr>\n",
       "  </thead>\n",
       "  <tbody>\n",
       "    <tr>\n",
       "      <th>0</th>\n",
       "      <td>22년 2학기 수강자</td>\n",
       "      <td>80</td>\n",
       "      <td>A+) 수업은 온라인 녹화강의를 강의실에서 듣고, 질문을 받는 형식으로 진행되었습니다. 과제는 총 2번 있었고, 단순히...</td>\n",
       "    </tr>\n",
       "    <tr>\n",
       "      <th>1</th>\n",
       "      <td>22년 2학기 수강자</td>\n",
       "      <td>100</td>\n",
       "      <td>중간부분까진 할만하다가 그 이후로는 난이도가 확 올라가는 느낌이다. 온라인 강의로 수업을 듣고 와서 강의 시간에는 질문...</td>\n",
       "    </tr>\n",
       "    <tr>\n",
       "      <th>2</th>\n",
       "      <td>22년 2학기 수강자</td>\n",
       "      <td>80</td>\n",
       "      <td>너무..너무 어려워요.. 분명 녹강 들을 땐 다 이해했다 싶었는데 시험보면 하나도 쓸 수 없는.. A4 반장 참고 가능...</td>\n",
       "    </tr>\n",
       "    <tr>\n",
       "      <th>3</th>\n",
       "      <td>22년 2학기 수강자</td>\n",
       "      <td>80</td>\n",
       "      <td>다 준비하고 갔다고 생각했지만 시험 보면 겸손해지는 과목 \\n깊이 있게 준비해야 한다</td>\n",
       "    </tr>\n",
       "    <tr>\n",
       "      <th>4</th>\n",
       "      <td>22년 2학기 수강자</td>\n",
       "      <td>80</td>\n",
       "      <td>녹강듣는건 비효율적이나 시험은 A4반장 미리 적어갈수 있게 해주시는데 생각보다 크게 안쓰인다. 정말 생각을 많이해서 제...</td>\n",
       "    </tr>\n",
       "  </tbody>\n",
       "</table>\n",
       "</div>"
      ],
      "text/plain": [
       "          info rate  \\\n",
       "0  22년 2학기 수강자   80   \n",
       "1  22년 2학기 수강자  100   \n",
       "2  22년 2학기 수강자   80   \n",
       "3  22년 2학기 수강자   80   \n",
       "4  22년 2학기 수강자   80   \n",
       "\n",
       "                                                                    text  \n",
       "0  A+) 수업은 온라인 녹화강의를 강의실에서 듣고, 질문을 받는 형식으로 진행되었습니다. 과제는 총 2번 있었고, 단순히...  \n",
       "1  중간부분까진 할만하다가 그 이후로는 난이도가 확 올라가는 느낌이다. 온라인 강의로 수업을 듣고 와서 강의 시간에는 질문...  \n",
       "2  너무..너무 어려워요.. 분명 녹강 들을 땐 다 이해했다 싶었는데 시험보면 하나도 쓸 수 없는.. A4 반장 참고 가능...  \n",
       "3                        다 준비하고 갔다고 생각했지만 시험 보면 겸손해지는 과목 \\n깊이 있게 준비해야 한다  \n",
       "4  녹강듣는건 비효율적이나 시험은 A4반장 미리 적어갈수 있게 해주시는데 생각보다 크게 안쓰인다. 정말 생각을 많이해서 제...  "
      ]
     },
     "execution_count": 15,
     "metadata": {},
     "output_type": "execute_result"
    }
   ],
   "source": [
    "everytime_hong = pd.DataFrame({'info':info_list, 'rate':rate_list, 'text':text_list})\n",
    "\n",
    "\n",
    "# 열너비\n",
    "pd.set_option('display.max_colwidth', 70)\n",
    "everytime_hong.head()"
   ]
  },
  {
   "cell_type": "code",
   "execution_count": null,
   "metadata": {},
   "outputs": [],
   "source": []
  }
 ],
 "metadata": {
  "kernelspec": {
   "display_name": "base",
   "language": "python",
   "name": "python3"
  },
  "language_info": {
   "codemirror_mode": {
    "name": "ipython",
    "version": 3
   },
   "file_extension": ".py",
   "mimetype": "text/x-python",
   "name": "python",
   "nbconvert_exporter": "python",
   "pygments_lexer": "ipython3",
   "version": "3.9.12"
  },
  "orig_nbformat": 4,
  "vscode": {
   "interpreter": {
    "hash": "ad2bdc8ecc057115af97d19610ffacc2b4e99fae6737bb82f5d7fb13d2f2c186"
   }
  }
 },
 "nbformat": 4,
 "nbformat_minor": 2
}
